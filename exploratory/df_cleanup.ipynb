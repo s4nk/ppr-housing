{
  "nbformat": 4,
  "nbformat_minor": 0,
  "metadata": {
    "kernelspec": {
      "display_name": "Python 3",
      "language": "python",
      "name": "python3"
    },
    "language_info": {
      "codemirror_mode": {
        "name": "ipython",
        "version": 3
      },
      "file_extension": ".py",
      "mimetype": "text/x-python",
      "name": "python",
      "nbconvert_exporter": "python",
      "pygments_lexer": "ipython3",
      "version": "3.7.1"
    },
    "colab": {
      "name": "df_cleanup.ipynb",
      "provenance": []
    }
  },
  "cells": [
    {
      "cell_type": "code",
      "metadata": {
        "id": "7Fit6MHUmJYt",
        "colab_type": "code",
        "colab": {
          "base_uri": "https://localhost:8080/",
          "height": 54
        },
        "outputId": "27b0b21f-cb9a-4642-d8b8-21a16e54f2d5"
      },
      "source": [
        "import pandas as pd \n",
        "from google.colab import drive\n",
        "drive.mount('/content/drive')"
      ],
      "execution_count": 57,
      "outputs": [
        {
          "output_type": "stream",
          "text": [
            "Drive already mounted at /content/drive; to attempt to forcibly remount, call drive.mount(\"/content/drive\", force_remount=True).\n"
          ],
          "name": "stdout"
        }
      ]
    },
    {
      "cell_type": "code",
      "metadata": {
        "id": "SBWBSUH_mJY5",
        "colab_type": "code",
        "colab": {}
      },
      "source": [
        "df = pd.read_csv('/content/drive/My Drive/Random/PPR-ALL.zip', encoding='latin-1', compression='zip')"
      ],
      "execution_count": 0,
      "outputs": []
    },
    {
      "cell_type": "code",
      "metadata": {
        "id": "vylAMZlWmJZC",
        "colab_type": "code",
        "colab": {
          "base_uri": "https://localhost:8080/",
          "height": 415
        },
        "outputId": "fbc4a19d-ddb8-4a25-91c6-f01dcade4315"
      },
      "source": [
        "df.head()"
      ],
      "execution_count": 61,
      "outputs": [
        {
          "output_type": "execute_result",
          "data": {
            "text/html": [
              "<div>\n",
              "<style scoped>\n",
              "    .dataframe tbody tr th:only-of-type {\n",
              "        vertical-align: middle;\n",
              "    }\n",
              "\n",
              "    .dataframe tbody tr th {\n",
              "        vertical-align: top;\n",
              "    }\n",
              "\n",
              "    .dataframe thead th {\n",
              "        text-align: right;\n",
              "    }\n",
              "</style>\n",
              "<table border=\"1\" class=\"dataframe\">\n",
              "  <thead>\n",
              "    <tr style=\"text-align: right;\">\n",
              "      <th></th>\n",
              "      <th>Date of Sale (dd/mm/yyyy)</th>\n",
              "      <th>Address</th>\n",
              "      <th>Postal Code</th>\n",
              "      <th>County</th>\n",
              "      <th>Price ()</th>\n",
              "      <th>Not Full Market Price</th>\n",
              "      <th>VAT Exclusive</th>\n",
              "      <th>Description of Property</th>\n",
              "      <th>Property Size Description</th>\n",
              "    </tr>\n",
              "  </thead>\n",
              "  <tbody>\n",
              "    <tr>\n",
              "      <th>0</th>\n",
              "      <td>01/01/2010</td>\n",
              "      <td>5 Braemor Drive, Churchtown, Co.Dublin</td>\n",
              "      <td>NaN</td>\n",
              "      <td>Dublin</td>\n",
              "      <td>343,000.00</td>\n",
              "      <td>No</td>\n",
              "      <td>No</td>\n",
              "      <td>Second-Hand Dwelling house /Apartment</td>\n",
              "      <td>NaN</td>\n",
              "    </tr>\n",
              "    <tr>\n",
              "      <th>1</th>\n",
              "      <td>03/01/2010</td>\n",
              "      <td>134 Ashewood Walk, Summerhill Lane, Portlaoise</td>\n",
              "      <td>NaN</td>\n",
              "      <td>Laois</td>\n",
              "      <td>185,000.00</td>\n",
              "      <td>No</td>\n",
              "      <td>Yes</td>\n",
              "      <td>New Dwelling house /Apartment</td>\n",
              "      <td>greater than or equal to 38 sq metres and less...</td>\n",
              "    </tr>\n",
              "    <tr>\n",
              "      <th>2</th>\n",
              "      <td>04/01/2010</td>\n",
              "      <td>1 Meadow Avenue, Dundrum, Dublin 14</td>\n",
              "      <td>NaN</td>\n",
              "      <td>Dublin</td>\n",
              "      <td>438,500.00</td>\n",
              "      <td>No</td>\n",
              "      <td>No</td>\n",
              "      <td>Second-Hand Dwelling house /Apartment</td>\n",
              "      <td>NaN</td>\n",
              "    </tr>\n",
              "    <tr>\n",
              "      <th>3</th>\n",
              "      <td>04/01/2010</td>\n",
              "      <td>1 The Haven, Mornington</td>\n",
              "      <td>NaN</td>\n",
              "      <td>Meath</td>\n",
              "      <td>400,000.00</td>\n",
              "      <td>No</td>\n",
              "      <td>No</td>\n",
              "      <td>Second-Hand Dwelling house /Apartment</td>\n",
              "      <td>NaN</td>\n",
              "    </tr>\n",
              "    <tr>\n",
              "      <th>4</th>\n",
              "      <td>04/01/2010</td>\n",
              "      <td>11 Melville Heights, Kilkenny</td>\n",
              "      <td>NaN</td>\n",
              "      <td>Kilkenny</td>\n",
              "      <td>160,000.00</td>\n",
              "      <td>No</td>\n",
              "      <td>No</td>\n",
              "      <td>Second-Hand Dwelling house /Apartment</td>\n",
              "      <td>NaN</td>\n",
              "    </tr>\n",
              "  </tbody>\n",
              "</table>\n",
              "</div>"
            ],
            "text/plain": [
              "  Date of Sale (dd/mm/yyyy)  ...                          Property Size Description\n",
              "0                01/01/2010  ...                                                NaN\n",
              "1                03/01/2010  ...  greater than or equal to 38 sq metres and less...\n",
              "2                04/01/2010  ...                                                NaN\n",
              "3                04/01/2010  ...                                                NaN\n",
              "4                04/01/2010  ...                                                NaN\n",
              "\n",
              "[5 rows x 9 columns]"
            ]
          },
          "metadata": {
            "tags": []
          },
          "execution_count": 61
        }
      ]
    },
    {
      "cell_type": "code",
      "metadata": {
        "id": "JCBCLR4lmJZX",
        "colab_type": "code",
        "colab": {
          "base_uri": "https://localhost:8080/",
          "height": 34
        },
        "outputId": "c0380441-400f-40a1-d8a7-305787b93c89"
      },
      "source": [
        "df.shape"
      ],
      "execution_count": 62,
      "outputs": [
        {
          "output_type": "execute_result",
          "data": {
            "text/plain": [
              "(420574, 9)"
            ]
          },
          "metadata": {
            "tags": []
          },
          "execution_count": 62
        }
      ]
    },
    {
      "cell_type": "code",
      "metadata": {
        "id": "-MbM9xYSmJZd",
        "colab_type": "code",
        "colab": {
          "base_uri": "https://localhost:8080/",
          "height": 69
        },
        "outputId": "fc006112-fd82-4dd8-a58e-c3077394cd7c"
      },
      "source": [
        "df['Not Full Market Price'].value_counts()"
      ],
      "execution_count": 121,
      "outputs": [
        {
          "output_type": "execute_result",
          "data": {
            "text/plain": [
              "No     400065\n",
              "Yes     20509\n",
              "Name: Not Full Market Price, dtype: int64"
            ]
          },
          "metadata": {
            "tags": []
          },
          "execution_count": 121
        }
      ]
    },
    {
      "cell_type": "code",
      "metadata": {
        "id": "8A-8zFVSmJZK",
        "colab_type": "code",
        "colab": {}
      },
      "source": [
        "df = df[df['Not Full Market Price'] == 'No']"
      ],
      "execution_count": 0,
      "outputs": []
    },
    {
      "cell_type": "code",
      "metadata": {
        "scrolled": true,
        "id": "DvpqjOwSmJZh",
        "colab_type": "code",
        "colab": {
          "base_uri": "https://localhost:8080/",
          "height": 441
        },
        "outputId": "0784277d-f88d-4413-c70f-0b2280b4fbf3"
      },
      "source": [
        "pd.get_dummies(df['Description of Property'])"
      ],
      "execution_count": 65,
      "outputs": [
        {
          "output_type": "execute_result",
          "data": {
            "text/html": [
              "<div>\n",
              "<style scoped>\n",
              "    .dataframe tbody tr th:only-of-type {\n",
              "        vertical-align: middle;\n",
              "    }\n",
              "\n",
              "    .dataframe tbody tr th {\n",
              "        vertical-align: top;\n",
              "    }\n",
              "\n",
              "    .dataframe thead th {\n",
              "        text-align: right;\n",
              "    }\n",
              "</style>\n",
              "<table border=\"1\" class=\"dataframe\">\n",
              "  <thead>\n",
              "    <tr style=\"text-align: right;\">\n",
              "      <th></th>\n",
              "      <th>New Dwelling house /Apartment</th>\n",
              "      <th>Second-Hand Dwelling house /Apartment</th>\n",
              "      <th>Teach/?ras?n C?naithe Nua</th>\n",
              "      <th>Teach/Árasán Cónaithe Atháimhe</th>\n",
              "      <th>Teach/Árasán Cónaithe Nua</th>\n",
              "    </tr>\n",
              "  </thead>\n",
              "  <tbody>\n",
              "    <tr>\n",
              "      <th>0</th>\n",
              "      <td>0</td>\n",
              "      <td>1</td>\n",
              "      <td>0</td>\n",
              "      <td>0</td>\n",
              "      <td>0</td>\n",
              "    </tr>\n",
              "    <tr>\n",
              "      <th>1</th>\n",
              "      <td>1</td>\n",
              "      <td>0</td>\n",
              "      <td>0</td>\n",
              "      <td>0</td>\n",
              "      <td>0</td>\n",
              "    </tr>\n",
              "    <tr>\n",
              "      <th>2</th>\n",
              "      <td>0</td>\n",
              "      <td>1</td>\n",
              "      <td>0</td>\n",
              "      <td>0</td>\n",
              "      <td>0</td>\n",
              "    </tr>\n",
              "    <tr>\n",
              "      <th>3</th>\n",
              "      <td>0</td>\n",
              "      <td>1</td>\n",
              "      <td>0</td>\n",
              "      <td>0</td>\n",
              "      <td>0</td>\n",
              "    </tr>\n",
              "    <tr>\n",
              "      <th>4</th>\n",
              "      <td>0</td>\n",
              "      <td>1</td>\n",
              "      <td>0</td>\n",
              "      <td>0</td>\n",
              "      <td>0</td>\n",
              "    </tr>\n",
              "    <tr>\n",
              "      <th>...</th>\n",
              "      <td>...</td>\n",
              "      <td>...</td>\n",
              "      <td>...</td>\n",
              "      <td>...</td>\n",
              "      <td>...</td>\n",
              "    </tr>\n",
              "    <tr>\n",
              "      <th>420569</th>\n",
              "      <td>0</td>\n",
              "      <td>1</td>\n",
              "      <td>0</td>\n",
              "      <td>0</td>\n",
              "      <td>0</td>\n",
              "    </tr>\n",
              "    <tr>\n",
              "      <th>420570</th>\n",
              "      <td>0</td>\n",
              "      <td>1</td>\n",
              "      <td>0</td>\n",
              "      <td>0</td>\n",
              "      <td>0</td>\n",
              "    </tr>\n",
              "    <tr>\n",
              "      <th>420571</th>\n",
              "      <td>0</td>\n",
              "      <td>1</td>\n",
              "      <td>0</td>\n",
              "      <td>0</td>\n",
              "      <td>0</td>\n",
              "    </tr>\n",
              "    <tr>\n",
              "      <th>420572</th>\n",
              "      <td>0</td>\n",
              "      <td>1</td>\n",
              "      <td>0</td>\n",
              "      <td>0</td>\n",
              "      <td>0</td>\n",
              "    </tr>\n",
              "    <tr>\n",
              "      <th>420573</th>\n",
              "      <td>0</td>\n",
              "      <td>1</td>\n",
              "      <td>0</td>\n",
              "      <td>0</td>\n",
              "      <td>0</td>\n",
              "    </tr>\n",
              "  </tbody>\n",
              "</table>\n",
              "<p>400065 rows × 5 columns</p>\n",
              "</div>"
            ],
            "text/plain": [
              "        New Dwelling house /Apartment  ...  Teach/Árasán Cónaithe Nua\n",
              "0                                   0  ...                          0\n",
              "1                                   1  ...                          0\n",
              "2                                   0  ...                          0\n",
              "3                                   0  ...                          0\n",
              "4                                   0  ...                          0\n",
              "...                               ...  ...                        ...\n",
              "420569                              0  ...                          0\n",
              "420570                              0  ...                          0\n",
              "420571                              0  ...                          0\n",
              "420572                              0  ...                          0\n",
              "420573                              0  ...                          0\n",
              "\n",
              "[400065 rows x 5 columns]"
            ]
          },
          "metadata": {
            "tags": []
          },
          "execution_count": 65
        }
      ]
    },
    {
      "cell_type": "code",
      "metadata": {
        "id": "6pldrTEimJZl",
        "colab_type": "code",
        "colab": {
          "base_uri": "https://localhost:8080/",
          "height": 86
        },
        "outputId": "6fb1e989-670b-46c8-8e49-5fe309bd4466"
      },
      "source": [
        "df['Description of Property'].unique()"
      ],
      "execution_count": 66,
      "outputs": [
        {
          "output_type": "execute_result",
          "data": {
            "text/plain": [
              "array(['Second-Hand Dwelling house /Apartment',\n",
              "       'New Dwelling house /Apartment', 'Teach/Árasán Cónaithe Atháimhe',\n",
              "       'Teach/Árasán Cónaithe Nua', 'Teach/?ras?n C?naithe Nua'],\n",
              "      dtype=object)"
            ]
          },
          "metadata": {
            "tags": []
          },
          "execution_count": 66
        }
      ]
    },
    {
      "cell_type": "code",
      "metadata": {
        "scrolled": true,
        "id": "A6BKhj_SmJZq",
        "colab_type": "code",
        "colab": {
          "base_uri": "https://localhost:8080/",
          "height": 69
        },
        "outputId": "45bce446-c4f1-4e3a-b402-d387d921ba0e"
      },
      "source": [
        "pd.get_dummies(df['Description of Property'])['Teach/?ras?n C?naithe Nua'].value_counts()"
      ],
      "execution_count": 67,
      "outputs": [
        {
          "output_type": "execute_result",
          "data": {
            "text/plain": [
              "0    400064\n",
              "1         1\n",
              "Name: Teach/?ras?n C?naithe Nua, dtype: int64"
            ]
          },
          "metadata": {
            "tags": []
          },
          "execution_count": 67
        }
      ]
    },
    {
      "cell_type": "code",
      "metadata": {
        "scrolled": true,
        "id": "iMwmtdeJmJZw",
        "colab_type": "code",
        "colab": {
          "base_uri": "https://localhost:8080/",
          "height": 69
        },
        "outputId": "4d86223b-a13e-4595-a26b-47a88faec532"
      },
      "source": [
        "pd.get_dummies(df['Description of Property'])['Teach/Árasán Cónaithe Nua'].value_counts()"
      ],
      "execution_count": 68,
      "outputs": [
        {
          "output_type": "execute_result",
          "data": {
            "text/plain": [
              "0    400063\n",
              "1         2\n",
              "Name: Teach/Árasán Cónaithe Nua, dtype: int64"
            ]
          },
          "metadata": {
            "tags": []
          },
          "execution_count": 68
        }
      ]
    },
    {
      "cell_type": "code",
      "metadata": {
        "scrolled": true,
        "id": "DMIOzowRmJZ2",
        "colab_type": "code",
        "colab": {
          "base_uri": "https://localhost:8080/",
          "height": 69
        },
        "outputId": "8d4842b4-b06e-4c33-e5cf-b7093bed24ae"
      },
      "source": [
        "pd.get_dummies(df['Description of Property'])['Teach/Árasán Cónaithe Atháimhe'].value_counts()"
      ],
      "execution_count": 13,
      "outputs": [
        {
          "output_type": "execute_result",
          "data": {
            "text/plain": [
              "0    400037\n",
              "1        28\n",
              "Name: Teach/Árasán Cónaithe Atháimhe, dtype: int64"
            ]
          },
          "metadata": {
            "tags": []
          },
          "execution_count": 13
        }
      ]
    },
    {
      "cell_type": "code",
      "metadata": {
        "scrolled": true,
        "id": "HqG9oazFmJZ6",
        "colab_type": "code",
        "colab": {
          "base_uri": "https://localhost:8080/",
          "height": 69
        },
        "outputId": "91ce141a-50d2-4dbe-c8ef-72bc09c2e6fd"
      },
      "source": [
        "pd.get_dummies(df['Description of Property'])['New Dwelling house /Apartment'].value_counts()"
      ],
      "execution_count": 69,
      "outputs": [
        {
          "output_type": "execute_result",
          "data": {
            "text/plain": [
              "0    335305\n",
              "1     64760\n",
              "Name: New Dwelling house /Apartment, dtype: int64"
            ]
          },
          "metadata": {
            "tags": []
          },
          "execution_count": 69
        }
      ]
    },
    {
      "cell_type": "code",
      "metadata": {
        "scrolled": true,
        "id": "nQMJ9OoqmJaB",
        "colab_type": "code",
        "colab": {
          "base_uri": "https://localhost:8080/",
          "height": 69
        },
        "outputId": "c7469f86-35e5-4295-d6d9-ae7f777ecf4e"
      },
      "source": [
        "pd.get_dummies(df['Description of Property'])['Second-Hand Dwelling house /Apartment'].value_counts()"
      ],
      "execution_count": 70,
      "outputs": [
        {
          "output_type": "execute_result",
          "data": {
            "text/plain": [
              "1    335274\n",
              "0     64791\n",
              "Name: Second-Hand Dwelling house /Apartment, dtype: int64"
            ]
          },
          "metadata": {
            "tags": []
          },
          "execution_count": 70
        }
      ]
    },
    {
      "cell_type": "code",
      "metadata": {
        "id": "IyB1DV62mJaG",
        "colab_type": "code",
        "colab": {}
      },
      "source": [
        "df = df[(df['Description of Property'] == 'Second-Hand Dwelling house /Apartment') | (df['Description of Property'] == 'New Dwelling house /Apartment')]"
      ],
      "execution_count": 0,
      "outputs": []
    },
    {
      "cell_type": "code",
      "metadata": {
        "id": "e7npHbaUmJaK",
        "colab_type": "code",
        "colab": {
          "base_uri": "https://localhost:8080/",
          "height": 415
        },
        "outputId": "46661a47-6cd2-4536-b0ed-b39d9dfd858c"
      },
      "source": [
        "df.head()"
      ],
      "execution_count": 72,
      "outputs": [
        {
          "output_type": "execute_result",
          "data": {
            "text/html": [
              "<div>\n",
              "<style scoped>\n",
              "    .dataframe tbody tr th:only-of-type {\n",
              "        vertical-align: middle;\n",
              "    }\n",
              "\n",
              "    .dataframe tbody tr th {\n",
              "        vertical-align: top;\n",
              "    }\n",
              "\n",
              "    .dataframe thead th {\n",
              "        text-align: right;\n",
              "    }\n",
              "</style>\n",
              "<table border=\"1\" class=\"dataframe\">\n",
              "  <thead>\n",
              "    <tr style=\"text-align: right;\">\n",
              "      <th></th>\n",
              "      <th>Date of Sale (dd/mm/yyyy)</th>\n",
              "      <th>Address</th>\n",
              "      <th>Postal Code</th>\n",
              "      <th>County</th>\n",
              "      <th>Price ()</th>\n",
              "      <th>Not Full Market Price</th>\n",
              "      <th>VAT Exclusive</th>\n",
              "      <th>Description of Property</th>\n",
              "      <th>Property Size Description</th>\n",
              "    </tr>\n",
              "  </thead>\n",
              "  <tbody>\n",
              "    <tr>\n",
              "      <th>0</th>\n",
              "      <td>01/01/2010</td>\n",
              "      <td>5 Braemor Drive, Churchtown, Co.Dublin</td>\n",
              "      <td>NaN</td>\n",
              "      <td>Dublin</td>\n",
              "      <td>343,000.00</td>\n",
              "      <td>No</td>\n",
              "      <td>No</td>\n",
              "      <td>Second-Hand Dwelling house /Apartment</td>\n",
              "      <td>NaN</td>\n",
              "    </tr>\n",
              "    <tr>\n",
              "      <th>1</th>\n",
              "      <td>03/01/2010</td>\n",
              "      <td>134 Ashewood Walk, Summerhill Lane, Portlaoise</td>\n",
              "      <td>NaN</td>\n",
              "      <td>Laois</td>\n",
              "      <td>185,000.00</td>\n",
              "      <td>No</td>\n",
              "      <td>Yes</td>\n",
              "      <td>New Dwelling house /Apartment</td>\n",
              "      <td>greater than or equal to 38 sq metres and less...</td>\n",
              "    </tr>\n",
              "    <tr>\n",
              "      <th>2</th>\n",
              "      <td>04/01/2010</td>\n",
              "      <td>1 Meadow Avenue, Dundrum, Dublin 14</td>\n",
              "      <td>NaN</td>\n",
              "      <td>Dublin</td>\n",
              "      <td>438,500.00</td>\n",
              "      <td>No</td>\n",
              "      <td>No</td>\n",
              "      <td>Second-Hand Dwelling house /Apartment</td>\n",
              "      <td>NaN</td>\n",
              "    </tr>\n",
              "    <tr>\n",
              "      <th>3</th>\n",
              "      <td>04/01/2010</td>\n",
              "      <td>1 The Haven, Mornington</td>\n",
              "      <td>NaN</td>\n",
              "      <td>Meath</td>\n",
              "      <td>400,000.00</td>\n",
              "      <td>No</td>\n",
              "      <td>No</td>\n",
              "      <td>Second-Hand Dwelling house /Apartment</td>\n",
              "      <td>NaN</td>\n",
              "    </tr>\n",
              "    <tr>\n",
              "      <th>4</th>\n",
              "      <td>04/01/2010</td>\n",
              "      <td>11 Melville Heights, Kilkenny</td>\n",
              "      <td>NaN</td>\n",
              "      <td>Kilkenny</td>\n",
              "      <td>160,000.00</td>\n",
              "      <td>No</td>\n",
              "      <td>No</td>\n",
              "      <td>Second-Hand Dwelling house /Apartment</td>\n",
              "      <td>NaN</td>\n",
              "    </tr>\n",
              "  </tbody>\n",
              "</table>\n",
              "</div>"
            ],
            "text/plain": [
              "  Date of Sale (dd/mm/yyyy)  ...                          Property Size Description\n",
              "0                01/01/2010  ...                                                NaN\n",
              "1                03/01/2010  ...  greater than or equal to 38 sq metres and less...\n",
              "2                04/01/2010  ...                                                NaN\n",
              "3                04/01/2010  ...                                                NaN\n",
              "4                04/01/2010  ...                                                NaN\n",
              "\n",
              "[5 rows x 9 columns]"
            ]
          },
          "metadata": {
            "tags": []
          },
          "execution_count": 72
        }
      ]
    },
    {
      "cell_type": "code",
      "metadata": {
        "id": "6MUt9mK3mJaO",
        "colab_type": "code",
        "colab": {
          "base_uri": "https://localhost:8080/",
          "height": 86
        },
        "outputId": "702fe8d1-c942-45c9-f98f-2b59a90bec8c"
      },
      "source": [
        "df['Property Size Description'].unique()"
      ],
      "execution_count": 73,
      "outputs": [
        {
          "output_type": "execute_result",
          "data": {
            "text/plain": [
              "array([nan,\n",
              "       'greater than or equal to 38 sq metres and less than 125 sq metres',\n",
              "       'greater than 125 sq metres', 'less than 38 sq metres',\n",
              "       'greater than or equal to 125 sq metres'], dtype=object)"
            ]
          },
          "metadata": {
            "tags": []
          },
          "execution_count": 73
        }
      ]
    },
    {
      "cell_type": "code",
      "metadata": {
        "id": "6eCMeaScmJaR",
        "colab_type": "code",
        "colab": {
          "base_uri": "https://localhost:8080/",
          "height": 415
        },
        "outputId": "d8011437-20b2-4394-a243-fa93b030653c"
      },
      "source": [
        "df.head()"
      ],
      "execution_count": 74,
      "outputs": [
        {
          "output_type": "execute_result",
          "data": {
            "text/html": [
              "<div>\n",
              "<style scoped>\n",
              "    .dataframe tbody tr th:only-of-type {\n",
              "        vertical-align: middle;\n",
              "    }\n",
              "\n",
              "    .dataframe tbody tr th {\n",
              "        vertical-align: top;\n",
              "    }\n",
              "\n",
              "    .dataframe thead th {\n",
              "        text-align: right;\n",
              "    }\n",
              "</style>\n",
              "<table border=\"1\" class=\"dataframe\">\n",
              "  <thead>\n",
              "    <tr style=\"text-align: right;\">\n",
              "      <th></th>\n",
              "      <th>Date of Sale (dd/mm/yyyy)</th>\n",
              "      <th>Address</th>\n",
              "      <th>Postal Code</th>\n",
              "      <th>County</th>\n",
              "      <th>Price ()</th>\n",
              "      <th>Not Full Market Price</th>\n",
              "      <th>VAT Exclusive</th>\n",
              "      <th>Description of Property</th>\n",
              "      <th>Property Size Description</th>\n",
              "    </tr>\n",
              "  </thead>\n",
              "  <tbody>\n",
              "    <tr>\n",
              "      <th>0</th>\n",
              "      <td>01/01/2010</td>\n",
              "      <td>5 Braemor Drive, Churchtown, Co.Dublin</td>\n",
              "      <td>NaN</td>\n",
              "      <td>Dublin</td>\n",
              "      <td>343,000.00</td>\n",
              "      <td>No</td>\n",
              "      <td>No</td>\n",
              "      <td>Second-Hand Dwelling house /Apartment</td>\n",
              "      <td>NaN</td>\n",
              "    </tr>\n",
              "    <tr>\n",
              "      <th>1</th>\n",
              "      <td>03/01/2010</td>\n",
              "      <td>134 Ashewood Walk, Summerhill Lane, Portlaoise</td>\n",
              "      <td>NaN</td>\n",
              "      <td>Laois</td>\n",
              "      <td>185,000.00</td>\n",
              "      <td>No</td>\n",
              "      <td>Yes</td>\n",
              "      <td>New Dwelling house /Apartment</td>\n",
              "      <td>greater than or equal to 38 sq metres and less...</td>\n",
              "    </tr>\n",
              "    <tr>\n",
              "      <th>2</th>\n",
              "      <td>04/01/2010</td>\n",
              "      <td>1 Meadow Avenue, Dundrum, Dublin 14</td>\n",
              "      <td>NaN</td>\n",
              "      <td>Dublin</td>\n",
              "      <td>438,500.00</td>\n",
              "      <td>No</td>\n",
              "      <td>No</td>\n",
              "      <td>Second-Hand Dwelling house /Apartment</td>\n",
              "      <td>NaN</td>\n",
              "    </tr>\n",
              "    <tr>\n",
              "      <th>3</th>\n",
              "      <td>04/01/2010</td>\n",
              "      <td>1 The Haven, Mornington</td>\n",
              "      <td>NaN</td>\n",
              "      <td>Meath</td>\n",
              "      <td>400,000.00</td>\n",
              "      <td>No</td>\n",
              "      <td>No</td>\n",
              "      <td>Second-Hand Dwelling house /Apartment</td>\n",
              "      <td>NaN</td>\n",
              "    </tr>\n",
              "    <tr>\n",
              "      <th>4</th>\n",
              "      <td>04/01/2010</td>\n",
              "      <td>11 Melville Heights, Kilkenny</td>\n",
              "      <td>NaN</td>\n",
              "      <td>Kilkenny</td>\n",
              "      <td>160,000.00</td>\n",
              "      <td>No</td>\n",
              "      <td>No</td>\n",
              "      <td>Second-Hand Dwelling house /Apartment</td>\n",
              "      <td>NaN</td>\n",
              "    </tr>\n",
              "  </tbody>\n",
              "</table>\n",
              "</div>"
            ],
            "text/plain": [
              "  Date of Sale (dd/mm/yyyy)  ...                          Property Size Description\n",
              "0                01/01/2010  ...                                                NaN\n",
              "1                03/01/2010  ...  greater than or equal to 38 sq metres and less...\n",
              "2                04/01/2010  ...                                                NaN\n",
              "3                04/01/2010  ...                                                NaN\n",
              "4                04/01/2010  ...                                                NaN\n",
              "\n",
              "[5 rows x 9 columns]"
            ]
          },
          "metadata": {
            "tags": []
          },
          "execution_count": 74
        }
      ]
    },
    {
      "cell_type": "code",
      "metadata": {
        "scrolled": true,
        "id": "M1Vb7cmemJaV",
        "colab_type": "code",
        "colab": {
          "base_uri": "https://localhost:8080/",
          "height": 1000
        },
        "outputId": "62f51278-818d-4268-d542-670dcf3998a5"
      },
      "source": [
        "pd.concat([df, pd.get_dummies(df['Property Size Description'])], axis=1)"
      ],
      "execution_count": 123,
      "outputs": [
        {
          "output_type": "execute_result",
          "data": {
            "text/html": [
              "<div>\n",
              "<style scoped>\n",
              "    .dataframe tbody tr th:only-of-type {\n",
              "        vertical-align: middle;\n",
              "    }\n",
              "\n",
              "    .dataframe tbody tr th {\n",
              "        vertical-align: top;\n",
              "    }\n",
              "\n",
              "    .dataframe thead th {\n",
              "        text-align: right;\n",
              "    }\n",
              "</style>\n",
              "<table border=\"1\" class=\"dataframe\">\n",
              "  <thead>\n",
              "    <tr style=\"text-align: right;\">\n",
              "      <th></th>\n",
              "      <th>Date of Sale (dd/mm/yyyy)</th>\n",
              "      <th>Address</th>\n",
              "      <th>Postal Code</th>\n",
              "      <th>County</th>\n",
              "      <th>Price ()</th>\n",
              "      <th>Not Full Market Price</th>\n",
              "      <th>VAT Exclusive</th>\n",
              "      <th>Description of Property</th>\n",
              "      <th>Property Size Description</th>\n",
              "      <th>greater than 125 sq metres</th>\n",
              "      <th>greater than or equal to 125 sq metres</th>\n",
              "      <th>greater than or equal to 38 sq metres and less than 125 sq metres</th>\n",
              "      <th>less than 38 sq metres</th>\n",
              "      <th>n?os l? n? 38 m?adar cearnach</th>\n",
              "      <th>níos mó ná nó cothrom le 38 méadar cearnach agus níos lú ná 125 méadar cearnach</th>\n",
              "    </tr>\n",
              "  </thead>\n",
              "  <tbody>\n",
              "    <tr>\n",
              "      <th>0</th>\n",
              "      <td>01/01/2010</td>\n",
              "      <td>5 Braemor Drive, Churchtown, Co.Dublin</td>\n",
              "      <td>NaN</td>\n",
              "      <td>Dublin</td>\n",
              "      <td>343,000.00</td>\n",
              "      <td>No</td>\n",
              "      <td>No</td>\n",
              "      <td>Second-Hand Dwelling house /Apartment</td>\n",
              "      <td>NaN</td>\n",
              "      <td>0</td>\n",
              "      <td>0</td>\n",
              "      <td>0</td>\n",
              "      <td>0</td>\n",
              "      <td>0</td>\n",
              "      <td>0</td>\n",
              "    </tr>\n",
              "    <tr>\n",
              "      <th>1</th>\n",
              "      <td>03/01/2010</td>\n",
              "      <td>134 Ashewood Walk, Summerhill Lane, Portlaoise</td>\n",
              "      <td>NaN</td>\n",
              "      <td>Laois</td>\n",
              "      <td>185,000.00</td>\n",
              "      <td>No</td>\n",
              "      <td>Yes</td>\n",
              "      <td>New Dwelling house /Apartment</td>\n",
              "      <td>greater than or equal to 38 sq metres and less...</td>\n",
              "      <td>0</td>\n",
              "      <td>0</td>\n",
              "      <td>1</td>\n",
              "      <td>0</td>\n",
              "      <td>0</td>\n",
              "      <td>0</td>\n",
              "    </tr>\n",
              "    <tr>\n",
              "      <th>2</th>\n",
              "      <td>04/01/2010</td>\n",
              "      <td>1 Meadow Avenue, Dundrum, Dublin 14</td>\n",
              "      <td>NaN</td>\n",
              "      <td>Dublin</td>\n",
              "      <td>438,500.00</td>\n",
              "      <td>No</td>\n",
              "      <td>No</td>\n",
              "      <td>Second-Hand Dwelling house /Apartment</td>\n",
              "      <td>NaN</td>\n",
              "      <td>0</td>\n",
              "      <td>0</td>\n",
              "      <td>0</td>\n",
              "      <td>0</td>\n",
              "      <td>0</td>\n",
              "      <td>0</td>\n",
              "    </tr>\n",
              "    <tr>\n",
              "      <th>3</th>\n",
              "      <td>04/01/2010</td>\n",
              "      <td>1 The Haven, Mornington</td>\n",
              "      <td>NaN</td>\n",
              "      <td>Meath</td>\n",
              "      <td>400,000.00</td>\n",
              "      <td>No</td>\n",
              "      <td>No</td>\n",
              "      <td>Second-Hand Dwelling house /Apartment</td>\n",
              "      <td>NaN</td>\n",
              "      <td>0</td>\n",
              "      <td>0</td>\n",
              "      <td>0</td>\n",
              "      <td>0</td>\n",
              "      <td>0</td>\n",
              "      <td>0</td>\n",
              "    </tr>\n",
              "    <tr>\n",
              "      <th>4</th>\n",
              "      <td>04/01/2010</td>\n",
              "      <td>11 Melville Heights, Kilkenny</td>\n",
              "      <td>NaN</td>\n",
              "      <td>Kilkenny</td>\n",
              "      <td>160,000.00</td>\n",
              "      <td>No</td>\n",
              "      <td>No</td>\n",
              "      <td>Second-Hand Dwelling house /Apartment</td>\n",
              "      <td>NaN</td>\n",
              "      <td>0</td>\n",
              "      <td>0</td>\n",
              "      <td>0</td>\n",
              "      <td>0</td>\n",
              "      <td>0</td>\n",
              "      <td>0</td>\n",
              "    </tr>\n",
              "    <tr>\n",
              "      <th>...</th>\n",
              "      <td>...</td>\n",
              "      <td>...</td>\n",
              "      <td>...</td>\n",
              "      <td>...</td>\n",
              "      <td>...</td>\n",
              "      <td>...</td>\n",
              "      <td>...</td>\n",
              "      <td>...</td>\n",
              "      <td>...</td>\n",
              "      <td>...</td>\n",
              "      <td>...</td>\n",
              "      <td>...</td>\n",
              "      <td>...</td>\n",
              "      <td>...</td>\n",
              "      <td>...</td>\n",
              "    </tr>\n",
              "    <tr>\n",
              "      <th>420569</th>\n",
              "      <td>24/04/2020</td>\n",
              "      <td>CLERAUN, NEWTOWNCASHEL, COUNTY LONGFORD</td>\n",
              "      <td>NaN</td>\n",
              "      <td>Longford</td>\n",
              "      <td>33,000.00</td>\n",
              "      <td>No</td>\n",
              "      <td>No</td>\n",
              "      <td>Second-Hand Dwelling house /Apartment</td>\n",
              "      <td>NaN</td>\n",
              "      <td>0</td>\n",
              "      <td>0</td>\n",
              "      <td>0</td>\n",
              "      <td>0</td>\n",
              "      <td>0</td>\n",
              "      <td>0</td>\n",
              "    </tr>\n",
              "    <tr>\n",
              "      <th>420570</th>\n",
              "      <td>24/04/2020</td>\n",
              "      <td>COOLOWEN, GLENCAIRN, LISMORE</td>\n",
              "      <td>NaN</td>\n",
              "      <td>Waterford</td>\n",
              "      <td>247,000.00</td>\n",
              "      <td>No</td>\n",
              "      <td>No</td>\n",
              "      <td>Second-Hand Dwelling house /Apartment</td>\n",
              "      <td>NaN</td>\n",
              "      <td>0</td>\n",
              "      <td>0</td>\n",
              "      <td>0</td>\n",
              "      <td>0</td>\n",
              "      <td>0</td>\n",
              "      <td>0</td>\n",
              "    </tr>\n",
              "    <tr>\n",
              "      <th>420571</th>\n",
              "      <td>24/04/2020</td>\n",
              "      <td>KNOCKVILLE, KNOCKOWEN RD, TULLAMORE</td>\n",
              "      <td>NaN</td>\n",
              "      <td>Offaly</td>\n",
              "      <td>275,000.00</td>\n",
              "      <td>No</td>\n",
              "      <td>No</td>\n",
              "      <td>Second-Hand Dwelling house /Apartment</td>\n",
              "      <td>NaN</td>\n",
              "      <td>0</td>\n",
              "      <td>0</td>\n",
              "      <td>0</td>\n",
              "      <td>0</td>\n",
              "      <td>0</td>\n",
              "      <td>0</td>\n",
              "    </tr>\n",
              "    <tr>\n",
              "      <th>420572</th>\n",
              "      <td>24/04/2020</td>\n",
              "      <td>NEW ROW, ABBEYLEIX, LAOIS</td>\n",
              "      <td>NaN</td>\n",
              "      <td>Laois</td>\n",
              "      <td>85,000.00</td>\n",
              "      <td>No</td>\n",
              "      <td>No</td>\n",
              "      <td>Second-Hand Dwelling house /Apartment</td>\n",
              "      <td>NaN</td>\n",
              "      <td>0</td>\n",
              "      <td>0</td>\n",
              "      <td>0</td>\n",
              "      <td>0</td>\n",
              "      <td>0</td>\n",
              "      <td>0</td>\n",
              "    </tr>\n",
              "    <tr>\n",
              "      <th>420573</th>\n",
              "      <td>24/04/2020</td>\n",
              "      <td>THE LODGE, MORNINGTON, MULTYFARMHAM</td>\n",
              "      <td>NaN</td>\n",
              "      <td>Westmeath</td>\n",
              "      <td>52,000.00</td>\n",
              "      <td>No</td>\n",
              "      <td>No</td>\n",
              "      <td>Second-Hand Dwelling house /Apartment</td>\n",
              "      <td>NaN</td>\n",
              "      <td>0</td>\n",
              "      <td>0</td>\n",
              "      <td>0</td>\n",
              "      <td>0</td>\n",
              "      <td>0</td>\n",
              "      <td>0</td>\n",
              "    </tr>\n",
              "  </tbody>\n",
              "</table>\n",
              "<p>400065 rows × 15 columns</p>\n",
              "</div>"
            ],
            "text/plain": [
              "       Date of Sale (dd/mm/yyyy)  ... níos mó ná nó cothrom le 38 méadar cearnach agus níos lú ná 125 méadar cearnach\n",
              "0                     01/01/2010  ...                                                  0                             \n",
              "1                     03/01/2010  ...                                                  0                             \n",
              "2                     04/01/2010  ...                                                  0                             \n",
              "3                     04/01/2010  ...                                                  0                             \n",
              "4                     04/01/2010  ...                                                  0                             \n",
              "...                          ...  ...                                                ...                             \n",
              "420569                24/04/2020  ...                                                  0                             \n",
              "420570                24/04/2020  ...                                                  0                             \n",
              "420571                24/04/2020  ...                                                  0                             \n",
              "420572                24/04/2020  ...                                                  0                             \n",
              "420573                24/04/2020  ...                                                  0                             \n",
              "\n",
              "[400065 rows x 15 columns]"
            ]
          },
          "metadata": {
            "tags": []
          },
          "execution_count": 123
        }
      ]
    },
    {
      "cell_type": "code",
      "metadata": {
        "id": "0-Af1GjhmJaY",
        "colab_type": "code",
        "colab": {}
      },
      "source": [
        "# df = pd.concat([df, pd.get_dummies(df['Property Size Description'])], axis=1)"
      ],
      "execution_count": 0,
      "outputs": []
    },
    {
      "cell_type": "code",
      "metadata": {
        "id": "X1KzhSt8mJab",
        "colab_type": "code",
        "colab": {
          "base_uri": "https://localhost:8080/",
          "height": 415
        },
        "outputId": "51807086-f83f-48c2-9f01-efda0db97c0c"
      },
      "source": [
        "df.head()"
      ],
      "execution_count": 77,
      "outputs": [
        {
          "output_type": "execute_result",
          "data": {
            "text/html": [
              "<div>\n",
              "<style scoped>\n",
              "    .dataframe tbody tr th:only-of-type {\n",
              "        vertical-align: middle;\n",
              "    }\n",
              "\n",
              "    .dataframe tbody tr th {\n",
              "        vertical-align: top;\n",
              "    }\n",
              "\n",
              "    .dataframe thead th {\n",
              "        text-align: right;\n",
              "    }\n",
              "</style>\n",
              "<table border=\"1\" class=\"dataframe\">\n",
              "  <thead>\n",
              "    <tr style=\"text-align: right;\">\n",
              "      <th></th>\n",
              "      <th>Date of Sale (dd/mm/yyyy)</th>\n",
              "      <th>Address</th>\n",
              "      <th>Postal Code</th>\n",
              "      <th>County</th>\n",
              "      <th>Price ()</th>\n",
              "      <th>Not Full Market Price</th>\n",
              "      <th>VAT Exclusive</th>\n",
              "      <th>Description of Property</th>\n",
              "      <th>Property Size Description</th>\n",
              "    </tr>\n",
              "  </thead>\n",
              "  <tbody>\n",
              "    <tr>\n",
              "      <th>0</th>\n",
              "      <td>01/01/2010</td>\n",
              "      <td>5 Braemor Drive, Churchtown, Co.Dublin</td>\n",
              "      <td>NaN</td>\n",
              "      <td>Dublin</td>\n",
              "      <td>343,000.00</td>\n",
              "      <td>No</td>\n",
              "      <td>No</td>\n",
              "      <td>Second-Hand Dwelling house /Apartment</td>\n",
              "      <td>NaN</td>\n",
              "    </tr>\n",
              "    <tr>\n",
              "      <th>1</th>\n",
              "      <td>03/01/2010</td>\n",
              "      <td>134 Ashewood Walk, Summerhill Lane, Portlaoise</td>\n",
              "      <td>NaN</td>\n",
              "      <td>Laois</td>\n",
              "      <td>185,000.00</td>\n",
              "      <td>No</td>\n",
              "      <td>Yes</td>\n",
              "      <td>New Dwelling house /Apartment</td>\n",
              "      <td>greater than or equal to 38 sq metres and less...</td>\n",
              "    </tr>\n",
              "    <tr>\n",
              "      <th>2</th>\n",
              "      <td>04/01/2010</td>\n",
              "      <td>1 Meadow Avenue, Dundrum, Dublin 14</td>\n",
              "      <td>NaN</td>\n",
              "      <td>Dublin</td>\n",
              "      <td>438,500.00</td>\n",
              "      <td>No</td>\n",
              "      <td>No</td>\n",
              "      <td>Second-Hand Dwelling house /Apartment</td>\n",
              "      <td>NaN</td>\n",
              "    </tr>\n",
              "    <tr>\n",
              "      <th>3</th>\n",
              "      <td>04/01/2010</td>\n",
              "      <td>1 The Haven, Mornington</td>\n",
              "      <td>NaN</td>\n",
              "      <td>Meath</td>\n",
              "      <td>400,000.00</td>\n",
              "      <td>No</td>\n",
              "      <td>No</td>\n",
              "      <td>Second-Hand Dwelling house /Apartment</td>\n",
              "      <td>NaN</td>\n",
              "    </tr>\n",
              "    <tr>\n",
              "      <th>4</th>\n",
              "      <td>04/01/2010</td>\n",
              "      <td>11 Melville Heights, Kilkenny</td>\n",
              "      <td>NaN</td>\n",
              "      <td>Kilkenny</td>\n",
              "      <td>160,000.00</td>\n",
              "      <td>No</td>\n",
              "      <td>No</td>\n",
              "      <td>Second-Hand Dwelling house /Apartment</td>\n",
              "      <td>NaN</td>\n",
              "    </tr>\n",
              "  </tbody>\n",
              "</table>\n",
              "</div>"
            ],
            "text/plain": [
              "  Date of Sale (dd/mm/yyyy)  ...                          Property Size Description\n",
              "0                01/01/2010  ...                                                NaN\n",
              "1                03/01/2010  ...  greater than or equal to 38 sq metres and less...\n",
              "2                04/01/2010  ...                                                NaN\n",
              "3                04/01/2010  ...                                                NaN\n",
              "4                04/01/2010  ...                                                NaN\n",
              "\n",
              "[5 rows x 9 columns]"
            ]
          },
          "metadata": {
            "tags": []
          },
          "execution_count": 77
        }
      ]
    },
    {
      "cell_type": "code",
      "metadata": {
        "id": "cIg6Hl29mJag",
        "colab_type": "code",
        "colab": {}
      },
      "source": [
        "# df = df.drop(['Property Size Description'], axis=1)"
      ],
      "execution_count": 0,
      "outputs": []
    },
    {
      "cell_type": "code",
      "metadata": {
        "id": "A1i1yBsLmJak",
        "colab_type": "code",
        "colab": {
          "base_uri": "https://localhost:8080/",
          "height": 415
        },
        "outputId": "634b77f8-4998-41b0-b1a0-3d9d76a45dfa"
      },
      "source": [
        "df.head()"
      ],
      "execution_count": 78,
      "outputs": [
        {
          "output_type": "execute_result",
          "data": {
            "text/html": [
              "<div>\n",
              "<style scoped>\n",
              "    .dataframe tbody tr th:only-of-type {\n",
              "        vertical-align: middle;\n",
              "    }\n",
              "\n",
              "    .dataframe tbody tr th {\n",
              "        vertical-align: top;\n",
              "    }\n",
              "\n",
              "    .dataframe thead th {\n",
              "        text-align: right;\n",
              "    }\n",
              "</style>\n",
              "<table border=\"1\" class=\"dataframe\">\n",
              "  <thead>\n",
              "    <tr style=\"text-align: right;\">\n",
              "      <th></th>\n",
              "      <th>Date of Sale (dd/mm/yyyy)</th>\n",
              "      <th>Address</th>\n",
              "      <th>Postal Code</th>\n",
              "      <th>County</th>\n",
              "      <th>Price ()</th>\n",
              "      <th>Not Full Market Price</th>\n",
              "      <th>VAT Exclusive</th>\n",
              "      <th>Description of Property</th>\n",
              "      <th>Property Size Description</th>\n",
              "    </tr>\n",
              "  </thead>\n",
              "  <tbody>\n",
              "    <tr>\n",
              "      <th>0</th>\n",
              "      <td>01/01/2010</td>\n",
              "      <td>5 Braemor Drive, Churchtown, Co.Dublin</td>\n",
              "      <td>NaN</td>\n",
              "      <td>Dublin</td>\n",
              "      <td>343,000.00</td>\n",
              "      <td>No</td>\n",
              "      <td>No</td>\n",
              "      <td>Second-Hand Dwelling house /Apartment</td>\n",
              "      <td>NaN</td>\n",
              "    </tr>\n",
              "    <tr>\n",
              "      <th>1</th>\n",
              "      <td>03/01/2010</td>\n",
              "      <td>134 Ashewood Walk, Summerhill Lane, Portlaoise</td>\n",
              "      <td>NaN</td>\n",
              "      <td>Laois</td>\n",
              "      <td>185,000.00</td>\n",
              "      <td>No</td>\n",
              "      <td>Yes</td>\n",
              "      <td>New Dwelling house /Apartment</td>\n",
              "      <td>greater than or equal to 38 sq metres and less...</td>\n",
              "    </tr>\n",
              "    <tr>\n",
              "      <th>2</th>\n",
              "      <td>04/01/2010</td>\n",
              "      <td>1 Meadow Avenue, Dundrum, Dublin 14</td>\n",
              "      <td>NaN</td>\n",
              "      <td>Dublin</td>\n",
              "      <td>438,500.00</td>\n",
              "      <td>No</td>\n",
              "      <td>No</td>\n",
              "      <td>Second-Hand Dwelling house /Apartment</td>\n",
              "      <td>NaN</td>\n",
              "    </tr>\n",
              "    <tr>\n",
              "      <th>3</th>\n",
              "      <td>04/01/2010</td>\n",
              "      <td>1 The Haven, Mornington</td>\n",
              "      <td>NaN</td>\n",
              "      <td>Meath</td>\n",
              "      <td>400,000.00</td>\n",
              "      <td>No</td>\n",
              "      <td>No</td>\n",
              "      <td>Second-Hand Dwelling house /Apartment</td>\n",
              "      <td>NaN</td>\n",
              "    </tr>\n",
              "    <tr>\n",
              "      <th>4</th>\n",
              "      <td>04/01/2010</td>\n",
              "      <td>11 Melville Heights, Kilkenny</td>\n",
              "      <td>NaN</td>\n",
              "      <td>Kilkenny</td>\n",
              "      <td>160,000.00</td>\n",
              "      <td>No</td>\n",
              "      <td>No</td>\n",
              "      <td>Second-Hand Dwelling house /Apartment</td>\n",
              "      <td>NaN</td>\n",
              "    </tr>\n",
              "  </tbody>\n",
              "</table>\n",
              "</div>"
            ],
            "text/plain": [
              "  Date of Sale (dd/mm/yyyy)  ...                          Property Size Description\n",
              "0                01/01/2010  ...                                                NaN\n",
              "1                03/01/2010  ...  greater than or equal to 38 sq metres and less...\n",
              "2                04/01/2010  ...                                                NaN\n",
              "3                04/01/2010  ...                                                NaN\n",
              "4                04/01/2010  ...                                                NaN\n",
              "\n",
              "[5 rows x 9 columns]"
            ]
          },
          "metadata": {
            "tags": []
          },
          "execution_count": 78
        }
      ]
    },
    {
      "cell_type": "code",
      "metadata": {
        "id": "T1XPeVy9mJan",
        "colab_type": "code",
        "colab": {
          "base_uri": "https://localhost:8080/",
          "height": 69
        },
        "outputId": "9fc9fe47-8710-42de-b645-f4bdde5cf0be"
      },
      "source": [
        "df['VAT Exclusive'].value_counts()"
      ],
      "execution_count": 79,
      "outputs": [
        {
          "output_type": "execute_result",
          "data": {
            "text/plain": [
              "No     336439\n",
              "Yes     63595\n",
              "Name: VAT Exclusive, dtype: int64"
            ]
          },
          "metadata": {
            "tags": []
          },
          "execution_count": 79
        }
      ]
    },
    {
      "cell_type": "code",
      "metadata": {
        "scrolled": true,
        "id": "8_HTBS9fmJar",
        "colab_type": "code",
        "colab": {
          "base_uri": "https://localhost:8080/",
          "height": 1000
        },
        "outputId": "cb3debc1-977d-47a6-c536-c005b4ed2eaf"
      },
      "source": [
        "df.tail(20)"
      ],
      "execution_count": 80,
      "outputs": [
        {
          "output_type": "execute_result",
          "data": {
            "text/html": [
              "<div>\n",
              "<style scoped>\n",
              "    .dataframe tbody tr th:only-of-type {\n",
              "        vertical-align: middle;\n",
              "    }\n",
              "\n",
              "    .dataframe tbody tr th {\n",
              "        vertical-align: top;\n",
              "    }\n",
              "\n",
              "    .dataframe thead th {\n",
              "        text-align: right;\n",
              "    }\n",
              "</style>\n",
              "<table border=\"1\" class=\"dataframe\">\n",
              "  <thead>\n",
              "    <tr style=\"text-align: right;\">\n",
              "      <th></th>\n",
              "      <th>Date of Sale (dd/mm/yyyy)</th>\n",
              "      <th>Address</th>\n",
              "      <th>Postal Code</th>\n",
              "      <th>County</th>\n",
              "      <th>Price ()</th>\n",
              "      <th>Not Full Market Price</th>\n",
              "      <th>VAT Exclusive</th>\n",
              "      <th>Description of Property</th>\n",
              "      <th>Property Size Description</th>\n",
              "    </tr>\n",
              "  </thead>\n",
              "  <tbody>\n",
              "    <tr>\n",
              "      <th>420553</th>\n",
              "      <td>23/04/2020</td>\n",
              "      <td>STATION ROAD, FALCARRAGH, CO. DONEGAL</td>\n",
              "      <td>NaN</td>\n",
              "      <td>Donegal</td>\n",
              "      <td>140,000.00</td>\n",
              "      <td>No</td>\n",
              "      <td>No</td>\n",
              "      <td>Second-Hand Dwelling house /Apartment</td>\n",
              "      <td>NaN</td>\n",
              "    </tr>\n",
              "    <tr>\n",
              "      <th>420554</th>\n",
              "      <td>24/04/2020</td>\n",
              "      <td>1 CLONDARRIG COURT, BELLINGHAM, PORTLAOISE</td>\n",
              "      <td>NaN</td>\n",
              "      <td>Laois</td>\n",
              "      <td>193,832.60</td>\n",
              "      <td>No</td>\n",
              "      <td>No</td>\n",
              "      <td>Second-Hand Dwelling house /Apartment</td>\n",
              "      <td>NaN</td>\n",
              "    </tr>\n",
              "    <tr>\n",
              "      <th>420555</th>\n",
              "      <td>24/04/2020</td>\n",
              "      <td>12 CENCORA WAY, COLLINS AVE, WATERFORD</td>\n",
              "      <td>NaN</td>\n",
              "      <td>Waterford</td>\n",
              "      <td>265,000.00</td>\n",
              "      <td>No</td>\n",
              "      <td>No</td>\n",
              "      <td>Second-Hand Dwelling house /Apartment</td>\n",
              "      <td>NaN</td>\n",
              "    </tr>\n",
              "    <tr>\n",
              "      <th>420556</th>\n",
              "      <td>24/04/2020</td>\n",
              "      <td>18 ROCHES TERRACE, MIDLETON, CORK</td>\n",
              "      <td>NaN</td>\n",
              "      <td>Cork</td>\n",
              "      <td>236,000.00</td>\n",
              "      <td>No</td>\n",
              "      <td>No</td>\n",
              "      <td>Second-Hand Dwelling house /Apartment</td>\n",
              "      <td>NaN</td>\n",
              "    </tr>\n",
              "    <tr>\n",
              "      <th>420557</th>\n",
              "      <td>24/04/2020</td>\n",
              "      <td>18 The Park, Westfield, Leixlip</td>\n",
              "      <td>NaN</td>\n",
              "      <td>Kildare</td>\n",
              "      <td>312,775.33</td>\n",
              "      <td>No</td>\n",
              "      <td>Yes</td>\n",
              "      <td>New Dwelling house /Apartment</td>\n",
              "      <td>NaN</td>\n",
              "    </tr>\n",
              "    <tr>\n",
              "      <th>420558</th>\n",
              "      <td>24/04/2020</td>\n",
              "      <td>195 CHAMBERS PARK, KILCOCK, KILDARE</td>\n",
              "      <td>NaN</td>\n",
              "      <td>Kildare</td>\n",
              "      <td>273,000.00</td>\n",
              "      <td>No</td>\n",
              "      <td>No</td>\n",
              "      <td>Second-Hand Dwelling house /Apartment</td>\n",
              "      <td>NaN</td>\n",
              "    </tr>\n",
              "    <tr>\n",
              "      <th>420559</th>\n",
              "      <td>24/04/2020</td>\n",
              "      <td>2 SUNRISE, CARCUR, WEXFORD</td>\n",
              "      <td>NaN</td>\n",
              "      <td>Wexford</td>\n",
              "      <td>165,000.00</td>\n",
              "      <td>No</td>\n",
              "      <td>No</td>\n",
              "      <td>Second-Hand Dwelling house /Apartment</td>\n",
              "      <td>NaN</td>\n",
              "    </tr>\n",
              "    <tr>\n",
              "      <th>420560</th>\n",
              "      <td>24/04/2020</td>\n",
              "      <td>24 Cois Glaisin Heights, Johnstown, Navan</td>\n",
              "      <td>NaN</td>\n",
              "      <td>Meath</td>\n",
              "      <td>255,507.00</td>\n",
              "      <td>No</td>\n",
              "      <td>Yes</td>\n",
              "      <td>New Dwelling house /Apartment</td>\n",
              "      <td>NaN</td>\n",
              "    </tr>\n",
              "    <tr>\n",
              "      <th>420561</th>\n",
              "      <td>24/04/2020</td>\n",
              "      <td>27 RATHVALE PARK, AYRFIELD, RAHENY DUBLIN 13</td>\n",
              "      <td>Dublin 13</td>\n",
              "      <td>Dublin</td>\n",
              "      <td>395,000.00</td>\n",
              "      <td>No</td>\n",
              "      <td>No</td>\n",
              "      <td>Second-Hand Dwelling house /Apartment</td>\n",
              "      <td>NaN</td>\n",
              "    </tr>\n",
              "    <tr>\n",
              "      <th>420562</th>\n",
              "      <td>24/04/2020</td>\n",
              "      <td>29 SPRINGFIELD GROVE, ROSSMORE VILLAGE, TIPPER...</td>\n",
              "      <td>NaN</td>\n",
              "      <td>Tipperary</td>\n",
              "      <td>145,000.00</td>\n",
              "      <td>No</td>\n",
              "      <td>No</td>\n",
              "      <td>Second-Hand Dwelling house /Apartment</td>\n",
              "      <td>NaN</td>\n",
              "    </tr>\n",
              "    <tr>\n",
              "      <th>420563</th>\n",
              "      <td>24/04/2020</td>\n",
              "      <td>35 Meadowbank, Marlton Road, Wicklow</td>\n",
              "      <td>NaN</td>\n",
              "      <td>Wicklow</td>\n",
              "      <td>321,586.00</td>\n",
              "      <td>No</td>\n",
              "      <td>Yes</td>\n",
              "      <td>New Dwelling house /Apartment</td>\n",
              "      <td>NaN</td>\n",
              "    </tr>\n",
              "    <tr>\n",
              "      <th>420564</th>\n",
              "      <td>24/04/2020</td>\n",
              "      <td>4 HEATHFIELD DRIVE, CAPPAGH ROAD, DUBLIN 11</td>\n",
              "      <td>Dublin 11</td>\n",
              "      <td>Dublin</td>\n",
              "      <td>303,000.00</td>\n",
              "      <td>No</td>\n",
              "      <td>No</td>\n",
              "      <td>Second-Hand Dwelling house /Apartment</td>\n",
              "      <td>NaN</td>\n",
              "    </tr>\n",
              "    <tr>\n",
              "      <th>420565</th>\n",
              "      <td>24/04/2020</td>\n",
              "      <td>406 BALLYOULSTER, CELBRIDGE, KILDARE</td>\n",
              "      <td>NaN</td>\n",
              "      <td>Kildare</td>\n",
              "      <td>430,000.00</td>\n",
              "      <td>No</td>\n",
              "      <td>No</td>\n",
              "      <td>Second-Hand Dwelling house /Apartment</td>\n",
              "      <td>NaN</td>\n",
              "    </tr>\n",
              "    <tr>\n",
              "      <th>420567</th>\n",
              "      <td>24/04/2020</td>\n",
              "      <td>6 HOLYWELL WAY, KILCOOLE, WICKLOW</td>\n",
              "      <td>NaN</td>\n",
              "      <td>Wicklow</td>\n",
              "      <td>430,000.00</td>\n",
              "      <td>No</td>\n",
              "      <td>No</td>\n",
              "      <td>Second-Hand Dwelling house /Apartment</td>\n",
              "      <td>NaN</td>\n",
              "    </tr>\n",
              "    <tr>\n",
              "      <th>420568</th>\n",
              "      <td>24/04/2020</td>\n",
              "      <td>94 THE LONG MEADOW, CONYNGHAM RD, ISLANDBRIDGE...</td>\n",
              "      <td>Dublin 8</td>\n",
              "      <td>Dublin</td>\n",
              "      <td>325,000.00</td>\n",
              "      <td>No</td>\n",
              "      <td>No</td>\n",
              "      <td>Second-Hand Dwelling house /Apartment</td>\n",
              "      <td>NaN</td>\n",
              "    </tr>\n",
              "    <tr>\n",
              "      <th>420569</th>\n",
              "      <td>24/04/2020</td>\n",
              "      <td>CLERAUN, NEWTOWNCASHEL, COUNTY LONGFORD</td>\n",
              "      <td>NaN</td>\n",
              "      <td>Longford</td>\n",
              "      <td>33,000.00</td>\n",
              "      <td>No</td>\n",
              "      <td>No</td>\n",
              "      <td>Second-Hand Dwelling house /Apartment</td>\n",
              "      <td>NaN</td>\n",
              "    </tr>\n",
              "    <tr>\n",
              "      <th>420570</th>\n",
              "      <td>24/04/2020</td>\n",
              "      <td>COOLOWEN, GLENCAIRN, LISMORE</td>\n",
              "      <td>NaN</td>\n",
              "      <td>Waterford</td>\n",
              "      <td>247,000.00</td>\n",
              "      <td>No</td>\n",
              "      <td>No</td>\n",
              "      <td>Second-Hand Dwelling house /Apartment</td>\n",
              "      <td>NaN</td>\n",
              "    </tr>\n",
              "    <tr>\n",
              "      <th>420571</th>\n",
              "      <td>24/04/2020</td>\n",
              "      <td>KNOCKVILLE, KNOCKOWEN RD, TULLAMORE</td>\n",
              "      <td>NaN</td>\n",
              "      <td>Offaly</td>\n",
              "      <td>275,000.00</td>\n",
              "      <td>No</td>\n",
              "      <td>No</td>\n",
              "      <td>Second-Hand Dwelling house /Apartment</td>\n",
              "      <td>NaN</td>\n",
              "    </tr>\n",
              "    <tr>\n",
              "      <th>420572</th>\n",
              "      <td>24/04/2020</td>\n",
              "      <td>NEW ROW, ABBEYLEIX, LAOIS</td>\n",
              "      <td>NaN</td>\n",
              "      <td>Laois</td>\n",
              "      <td>85,000.00</td>\n",
              "      <td>No</td>\n",
              "      <td>No</td>\n",
              "      <td>Second-Hand Dwelling house /Apartment</td>\n",
              "      <td>NaN</td>\n",
              "    </tr>\n",
              "    <tr>\n",
              "      <th>420573</th>\n",
              "      <td>24/04/2020</td>\n",
              "      <td>THE LODGE, MORNINGTON, MULTYFARMHAM</td>\n",
              "      <td>NaN</td>\n",
              "      <td>Westmeath</td>\n",
              "      <td>52,000.00</td>\n",
              "      <td>No</td>\n",
              "      <td>No</td>\n",
              "      <td>Second-Hand Dwelling house /Apartment</td>\n",
              "      <td>NaN</td>\n",
              "    </tr>\n",
              "  </tbody>\n",
              "</table>\n",
              "</div>"
            ],
            "text/plain": [
              "       Date of Sale (dd/mm/yyyy)  ... Property Size Description\n",
              "420553                23/04/2020  ...                       NaN\n",
              "420554                24/04/2020  ...                       NaN\n",
              "420555                24/04/2020  ...                       NaN\n",
              "420556                24/04/2020  ...                       NaN\n",
              "420557                24/04/2020  ...                       NaN\n",
              "420558                24/04/2020  ...                       NaN\n",
              "420559                24/04/2020  ...                       NaN\n",
              "420560                24/04/2020  ...                       NaN\n",
              "420561                24/04/2020  ...                       NaN\n",
              "420562                24/04/2020  ...                       NaN\n",
              "420563                24/04/2020  ...                       NaN\n",
              "420564                24/04/2020  ...                       NaN\n",
              "420565                24/04/2020  ...                       NaN\n",
              "420567                24/04/2020  ...                       NaN\n",
              "420568                24/04/2020  ...                       NaN\n",
              "420569                24/04/2020  ...                       NaN\n",
              "420570                24/04/2020  ...                       NaN\n",
              "420571                24/04/2020  ...                       NaN\n",
              "420572                24/04/2020  ...                       NaN\n",
              "420573                24/04/2020  ...                       NaN\n",
              "\n",
              "[20 rows x 9 columns]"
            ]
          },
          "metadata": {
            "tags": []
          },
          "execution_count": 80
        }
      ]
    },
    {
      "cell_type": "code",
      "metadata": {
        "id": "yElY75rjmJau",
        "colab_type": "code",
        "colab": {
          "base_uri": "https://localhost:8080/",
          "height": 104
        },
        "outputId": "c9c17e0c-bf7e-4b52-df3a-5b8adf3fc535"
      },
      "source": [
        "df['Postal Code'].unique()"
      ],
      "execution_count": 81,
      "outputs": [
        {
          "output_type": "execute_result",
          "data": {
            "text/plain": [
              "array([nan, 'Dublin 14', 'Dublin 2', 'Dublin 13', 'Dublin 12', 'Dublin 4',\n",
              "       'Dublin 9', 'Dublin 24', 'Dublin 15', 'Dublin 22', 'Dublin 5',\n",
              "       'Dublin 18', 'Dublin 6', 'Dublin 6w', 'Dublin 7', 'Dublin 16',\n",
              "       'Dublin 11', 'Dublin 8', 'Dublin 3', 'Dublin 1', 'Dublin 17',\n",
              "       'Dublin 20', 'Dublin 10'], dtype=object)"
            ]
          },
          "metadata": {
            "tags": []
          },
          "execution_count": 81
        }
      ]
    },
    {
      "cell_type": "code",
      "metadata": {
        "id": "v7x78AiBmJay",
        "colab_type": "code",
        "colab": {
          "base_uri": "https://localhost:8080/",
          "height": 104
        },
        "outputId": "8a165db3-5ef7-4989-91d4-7ae9e292a91c"
      },
      "source": [
        "df['County'].unique()"
      ],
      "execution_count": 82,
      "outputs": [
        {
          "output_type": "execute_result",
          "data": {
            "text/plain": [
              "array(['Dublin', 'Laois', 'Meath', 'Kilkenny', 'Limerick', 'Carlow',\n",
              "       'Cork', 'Clare', 'Sligo', 'Cavan', 'Tipperary', 'Wicklow',\n",
              "       'Roscommon', 'Wexford', 'Mayo', 'Donegal', 'Longford', 'Galway',\n",
              "       'Offaly', 'Kildare', 'Waterford', 'Louth', 'Kerry', 'Westmeath',\n",
              "       'Monaghan', 'Leitrim'], dtype=object)"
            ]
          },
          "metadata": {
            "tags": []
          },
          "execution_count": 82
        }
      ]
    },
    {
      "cell_type": "code",
      "metadata": {
        "id": "R54EcUCymJa1",
        "colab_type": "code",
        "colab": {
          "base_uri": "https://localhost:8080/",
          "height": 34
        },
        "outputId": "76d0a3ff-750e-47df-82e6-1bcd71699919"
      },
      "source": [
        "df['Price ()'].isna().any()"
      ],
      "execution_count": 83,
      "outputs": [
        {
          "output_type": "execute_result",
          "data": {
            "text/plain": [
              "False"
            ]
          },
          "metadata": {
            "tags": []
          },
          "execution_count": 83
        }
      ]
    },
    {
      "cell_type": "code",
      "metadata": {
        "id": "Y2IL9jqvmJa5",
        "colab_type": "code",
        "colab": {
          "base_uri": "https://localhost:8080/",
          "height": 34
        },
        "outputId": "1b068a29-a242-4ae8-c937-02ead891c96b"
      },
      "source": [
        "df['Date of Sale (dd/mm/yyyy)'].isna().any()"
      ],
      "execution_count": 84,
      "outputs": [
        {
          "output_type": "execute_result",
          "data": {
            "text/plain": [
              "False"
            ]
          },
          "metadata": {
            "tags": []
          },
          "execution_count": 84
        }
      ]
    },
    {
      "cell_type": "code",
      "metadata": {
        "id": "daMmvtyjmJa8",
        "colab_type": "code",
        "colab": {}
      },
      "source": [
        "df['Date of Sale (dd/mm/yyyy)'] = pd.to_datetime(df['Date of Sale (dd/mm/yyyy)'], dayfirst=True, format='%d/%m/%Y')\n",
        "df = df.rename(columns={'Date of Sale (dd/mm/yyyy)': 'Date of Sale'})"
      ],
      "execution_count": 0,
      "outputs": []
    },
    {
      "cell_type": "code",
      "metadata": {
        "id": "6HmPs_1MmJa-",
        "colab_type": "code",
        "colab": {
          "base_uri": "https://localhost:8080/",
          "height": 345
        },
        "outputId": "955a4615-9619-4413-dca9-4a09109e6c13"
      },
      "source": [
        "df.head()"
      ],
      "execution_count": 86,
      "outputs": [
        {
          "output_type": "execute_result",
          "data": {
            "text/html": [
              "<div>\n",
              "<style scoped>\n",
              "    .dataframe tbody tr th:only-of-type {\n",
              "        vertical-align: middle;\n",
              "    }\n",
              "\n",
              "    .dataframe tbody tr th {\n",
              "        vertical-align: top;\n",
              "    }\n",
              "\n",
              "    .dataframe thead th {\n",
              "        text-align: right;\n",
              "    }\n",
              "</style>\n",
              "<table border=\"1\" class=\"dataframe\">\n",
              "  <thead>\n",
              "    <tr style=\"text-align: right;\">\n",
              "      <th></th>\n",
              "      <th>Date of Sale</th>\n",
              "      <th>Address</th>\n",
              "      <th>Postal Code</th>\n",
              "      <th>County</th>\n",
              "      <th>Price ()</th>\n",
              "      <th>Not Full Market Price</th>\n",
              "      <th>VAT Exclusive</th>\n",
              "      <th>Description of Property</th>\n",
              "      <th>Property Size Description</th>\n",
              "    </tr>\n",
              "  </thead>\n",
              "  <tbody>\n",
              "    <tr>\n",
              "      <th>0</th>\n",
              "      <td>2010-01-01</td>\n",
              "      <td>5 Braemor Drive, Churchtown, Co.Dublin</td>\n",
              "      <td>NaN</td>\n",
              "      <td>Dublin</td>\n",
              "      <td>343,000.00</td>\n",
              "      <td>No</td>\n",
              "      <td>No</td>\n",
              "      <td>Second-Hand Dwelling house /Apartment</td>\n",
              "      <td>NaN</td>\n",
              "    </tr>\n",
              "    <tr>\n",
              "      <th>1</th>\n",
              "      <td>2010-01-03</td>\n",
              "      <td>134 Ashewood Walk, Summerhill Lane, Portlaoise</td>\n",
              "      <td>NaN</td>\n",
              "      <td>Laois</td>\n",
              "      <td>185,000.00</td>\n",
              "      <td>No</td>\n",
              "      <td>Yes</td>\n",
              "      <td>New Dwelling house /Apartment</td>\n",
              "      <td>greater than or equal to 38 sq metres and less...</td>\n",
              "    </tr>\n",
              "    <tr>\n",
              "      <th>2</th>\n",
              "      <td>2010-01-04</td>\n",
              "      <td>1 Meadow Avenue, Dundrum, Dublin 14</td>\n",
              "      <td>NaN</td>\n",
              "      <td>Dublin</td>\n",
              "      <td>438,500.00</td>\n",
              "      <td>No</td>\n",
              "      <td>No</td>\n",
              "      <td>Second-Hand Dwelling house /Apartment</td>\n",
              "      <td>NaN</td>\n",
              "    </tr>\n",
              "    <tr>\n",
              "      <th>3</th>\n",
              "      <td>2010-01-04</td>\n",
              "      <td>1 The Haven, Mornington</td>\n",
              "      <td>NaN</td>\n",
              "      <td>Meath</td>\n",
              "      <td>400,000.00</td>\n",
              "      <td>No</td>\n",
              "      <td>No</td>\n",
              "      <td>Second-Hand Dwelling house /Apartment</td>\n",
              "      <td>NaN</td>\n",
              "    </tr>\n",
              "    <tr>\n",
              "      <th>4</th>\n",
              "      <td>2010-01-04</td>\n",
              "      <td>11 Melville Heights, Kilkenny</td>\n",
              "      <td>NaN</td>\n",
              "      <td>Kilkenny</td>\n",
              "      <td>160,000.00</td>\n",
              "      <td>No</td>\n",
              "      <td>No</td>\n",
              "      <td>Second-Hand Dwelling house /Apartment</td>\n",
              "      <td>NaN</td>\n",
              "    </tr>\n",
              "  </tbody>\n",
              "</table>\n",
              "</div>"
            ],
            "text/plain": [
              "  Date of Sale  ...                          Property Size Description\n",
              "0   2010-01-01  ...                                                NaN\n",
              "1   2010-01-03  ...  greater than or equal to 38 sq metres and less...\n",
              "2   2010-01-04  ...                                                NaN\n",
              "3   2010-01-04  ...                                                NaN\n",
              "4   2010-01-04  ...                                                NaN\n",
              "\n",
              "[5 rows x 9 columns]"
            ]
          },
          "metadata": {
            "tags": []
          },
          "execution_count": 86
        }
      ]
    },
    {
      "cell_type": "code",
      "metadata": {
        "id": "ovzfNmWCmJbB",
        "colab_type": "code",
        "colab": {
          "base_uri": "https://localhost:8080/",
          "height": 806
        },
        "outputId": "54fb2584-026a-4725-a15c-a258c5de3633"
      },
      "source": [
        "df[df['Date of Sale'] > '2016-01-01'].reset_index(drop=True)"
      ],
      "execution_count": 87,
      "outputs": [
        {
          "output_type": "execute_result",
          "data": {
            "text/html": [
              "<div>\n",
              "<style scoped>\n",
              "    .dataframe tbody tr th:only-of-type {\n",
              "        vertical-align: middle;\n",
              "    }\n",
              "\n",
              "    .dataframe tbody tr th {\n",
              "        vertical-align: top;\n",
              "    }\n",
              "\n",
              "    .dataframe thead th {\n",
              "        text-align: right;\n",
              "    }\n",
              "</style>\n",
              "<table border=\"1\" class=\"dataframe\">\n",
              "  <thead>\n",
              "    <tr style=\"text-align: right;\">\n",
              "      <th></th>\n",
              "      <th>Date of Sale</th>\n",
              "      <th>Address</th>\n",
              "      <th>Postal Code</th>\n",
              "      <th>County</th>\n",
              "      <th>Price ()</th>\n",
              "      <th>Not Full Market Price</th>\n",
              "      <th>VAT Exclusive</th>\n",
              "      <th>Description of Property</th>\n",
              "      <th>Property Size Description</th>\n",
              "    </tr>\n",
              "  </thead>\n",
              "  <tbody>\n",
              "    <tr>\n",
              "      <th>0</th>\n",
              "      <td>2016-01-02</td>\n",
              "      <td>36 Cove Street, Cork City</td>\n",
              "      <td>NaN</td>\n",
              "      <td>Cork</td>\n",
              "      <td>250,000.00</td>\n",
              "      <td>No</td>\n",
              "      <td>No</td>\n",
              "      <td>Second-Hand Dwelling house /Apartment</td>\n",
              "      <td>NaN</td>\n",
              "    </tr>\n",
              "    <tr>\n",
              "      <th>1</th>\n",
              "      <td>2016-01-04</td>\n",
              "      <td>1 CILL BAN, COLLINS LANE, TULLAMORE</td>\n",
              "      <td>NaN</td>\n",
              "      <td>Offaly</td>\n",
              "      <td>173,000.00</td>\n",
              "      <td>No</td>\n",
              "      <td>No</td>\n",
              "      <td>Second-Hand Dwelling house /Apartment</td>\n",
              "      <td>NaN</td>\n",
              "    </tr>\n",
              "    <tr>\n",
              "      <th>2</th>\n",
              "      <td>2016-01-04</td>\n",
              "      <td>10 OLD PARK COURT, MONAGHAN, MONAGHAN</td>\n",
              "      <td>NaN</td>\n",
              "      <td>Monaghan</td>\n",
              "      <td>225,000.00</td>\n",
              "      <td>No</td>\n",
              "      <td>No</td>\n",
              "      <td>Second-Hand Dwelling house /Apartment</td>\n",
              "      <td>NaN</td>\n",
              "    </tr>\n",
              "    <tr>\n",
              "      <th>3</th>\n",
              "      <td>2016-01-04</td>\n",
              "      <td>12 Ard na Deirge, Killaloe</td>\n",
              "      <td>NaN</td>\n",
              "      <td>Clare</td>\n",
              "      <td>199,950.00</td>\n",
              "      <td>No</td>\n",
              "      <td>Yes</td>\n",
              "      <td>New Dwelling house /Apartment</td>\n",
              "      <td>greater than or equal to 38 sq metres and less...</td>\n",
              "    </tr>\n",
              "    <tr>\n",
              "      <th>4</th>\n",
              "      <td>2016-01-04</td>\n",
              "      <td>13 Drury Mills, Saggart</td>\n",
              "      <td>NaN</td>\n",
              "      <td>Dublin</td>\n",
              "      <td>230,088.00</td>\n",
              "      <td>No</td>\n",
              "      <td>Yes</td>\n",
              "      <td>New Dwelling house /Apartment</td>\n",
              "      <td>greater than or equal to 38 sq metres and less...</td>\n",
              "    </tr>\n",
              "    <tr>\n",
              "      <th>...</th>\n",
              "      <td>...</td>\n",
              "      <td>...</td>\n",
              "      <td>...</td>\n",
              "      <td>...</td>\n",
              "      <td>...</td>\n",
              "      <td>...</td>\n",
              "      <td>...</td>\n",
              "      <td>...</td>\n",
              "      <td>...</td>\n",
              "    </tr>\n",
              "    <tr>\n",
              "      <th>220954</th>\n",
              "      <td>2020-04-24</td>\n",
              "      <td>CLERAUN, NEWTOWNCASHEL, COUNTY LONGFORD</td>\n",
              "      <td>NaN</td>\n",
              "      <td>Longford</td>\n",
              "      <td>33,000.00</td>\n",
              "      <td>No</td>\n",
              "      <td>No</td>\n",
              "      <td>Second-Hand Dwelling house /Apartment</td>\n",
              "      <td>NaN</td>\n",
              "    </tr>\n",
              "    <tr>\n",
              "      <th>220955</th>\n",
              "      <td>2020-04-24</td>\n",
              "      <td>COOLOWEN, GLENCAIRN, LISMORE</td>\n",
              "      <td>NaN</td>\n",
              "      <td>Waterford</td>\n",
              "      <td>247,000.00</td>\n",
              "      <td>No</td>\n",
              "      <td>No</td>\n",
              "      <td>Second-Hand Dwelling house /Apartment</td>\n",
              "      <td>NaN</td>\n",
              "    </tr>\n",
              "    <tr>\n",
              "      <th>220956</th>\n",
              "      <td>2020-04-24</td>\n",
              "      <td>KNOCKVILLE, KNOCKOWEN RD, TULLAMORE</td>\n",
              "      <td>NaN</td>\n",
              "      <td>Offaly</td>\n",
              "      <td>275,000.00</td>\n",
              "      <td>No</td>\n",
              "      <td>No</td>\n",
              "      <td>Second-Hand Dwelling house /Apartment</td>\n",
              "      <td>NaN</td>\n",
              "    </tr>\n",
              "    <tr>\n",
              "      <th>220957</th>\n",
              "      <td>2020-04-24</td>\n",
              "      <td>NEW ROW, ABBEYLEIX, LAOIS</td>\n",
              "      <td>NaN</td>\n",
              "      <td>Laois</td>\n",
              "      <td>85,000.00</td>\n",
              "      <td>No</td>\n",
              "      <td>No</td>\n",
              "      <td>Second-Hand Dwelling house /Apartment</td>\n",
              "      <td>NaN</td>\n",
              "    </tr>\n",
              "    <tr>\n",
              "      <th>220958</th>\n",
              "      <td>2020-04-24</td>\n",
              "      <td>THE LODGE, MORNINGTON, MULTYFARMHAM</td>\n",
              "      <td>NaN</td>\n",
              "      <td>Westmeath</td>\n",
              "      <td>52,000.00</td>\n",
              "      <td>No</td>\n",
              "      <td>No</td>\n",
              "      <td>Second-Hand Dwelling house /Apartment</td>\n",
              "      <td>NaN</td>\n",
              "    </tr>\n",
              "  </tbody>\n",
              "</table>\n",
              "<p>220959 rows × 9 columns</p>\n",
              "</div>"
            ],
            "text/plain": [
              "       Date of Sale  ...                          Property Size Description\n",
              "0        2016-01-02  ...                                                NaN\n",
              "1        2016-01-04  ...                                                NaN\n",
              "2        2016-01-04  ...                                                NaN\n",
              "3        2016-01-04  ...  greater than or equal to 38 sq metres and less...\n",
              "4        2016-01-04  ...  greater than or equal to 38 sq metres and less...\n",
              "...             ...  ...                                                ...\n",
              "220954   2020-04-24  ...                                                NaN\n",
              "220955   2020-04-24  ...                                                NaN\n",
              "220956   2020-04-24  ...                                                NaN\n",
              "220957   2020-04-24  ...                                                NaN\n",
              "220958   2020-04-24  ...                                                NaN\n",
              "\n",
              "[220959 rows x 9 columns]"
            ]
          },
          "metadata": {
            "tags": []
          },
          "execution_count": 87
        }
      ]
    },
    {
      "cell_type": "code",
      "metadata": {
        "id": "oiYgAoLNmJbD",
        "colab_type": "code",
        "colab": {}
      },
      "source": [
        "df = df.rename(columns={'Price ()': 'Price'})"
      ],
      "execution_count": 0,
      "outputs": []
    },
    {
      "cell_type": "code",
      "metadata": {
        "id": "AUBNYPCJmJbH",
        "colab_type": "code",
        "colab": {
          "base_uri": "https://localhost:8080/",
          "height": 345
        },
        "outputId": "d0a6ee47-e5e2-4fa2-ee38-00cfd99a1275"
      },
      "source": [
        "df.head()"
      ],
      "execution_count": 89,
      "outputs": [
        {
          "output_type": "execute_result",
          "data": {
            "text/html": [
              "<div>\n",
              "<style scoped>\n",
              "    .dataframe tbody tr th:only-of-type {\n",
              "        vertical-align: middle;\n",
              "    }\n",
              "\n",
              "    .dataframe tbody tr th {\n",
              "        vertical-align: top;\n",
              "    }\n",
              "\n",
              "    .dataframe thead th {\n",
              "        text-align: right;\n",
              "    }\n",
              "</style>\n",
              "<table border=\"1\" class=\"dataframe\">\n",
              "  <thead>\n",
              "    <tr style=\"text-align: right;\">\n",
              "      <th></th>\n",
              "      <th>Date of Sale</th>\n",
              "      <th>Address</th>\n",
              "      <th>Postal Code</th>\n",
              "      <th>County</th>\n",
              "      <th>Price</th>\n",
              "      <th>Not Full Market Price</th>\n",
              "      <th>VAT Exclusive</th>\n",
              "      <th>Description of Property</th>\n",
              "      <th>Property Size Description</th>\n",
              "    </tr>\n",
              "  </thead>\n",
              "  <tbody>\n",
              "    <tr>\n",
              "      <th>0</th>\n",
              "      <td>2010-01-01</td>\n",
              "      <td>5 Braemor Drive, Churchtown, Co.Dublin</td>\n",
              "      <td>NaN</td>\n",
              "      <td>Dublin</td>\n",
              "      <td>343,000.00</td>\n",
              "      <td>No</td>\n",
              "      <td>No</td>\n",
              "      <td>Second-Hand Dwelling house /Apartment</td>\n",
              "      <td>NaN</td>\n",
              "    </tr>\n",
              "    <tr>\n",
              "      <th>1</th>\n",
              "      <td>2010-01-03</td>\n",
              "      <td>134 Ashewood Walk, Summerhill Lane, Portlaoise</td>\n",
              "      <td>NaN</td>\n",
              "      <td>Laois</td>\n",
              "      <td>185,000.00</td>\n",
              "      <td>No</td>\n",
              "      <td>Yes</td>\n",
              "      <td>New Dwelling house /Apartment</td>\n",
              "      <td>greater than or equal to 38 sq metres and less...</td>\n",
              "    </tr>\n",
              "    <tr>\n",
              "      <th>2</th>\n",
              "      <td>2010-01-04</td>\n",
              "      <td>1 Meadow Avenue, Dundrum, Dublin 14</td>\n",
              "      <td>NaN</td>\n",
              "      <td>Dublin</td>\n",
              "      <td>438,500.00</td>\n",
              "      <td>No</td>\n",
              "      <td>No</td>\n",
              "      <td>Second-Hand Dwelling house /Apartment</td>\n",
              "      <td>NaN</td>\n",
              "    </tr>\n",
              "    <tr>\n",
              "      <th>3</th>\n",
              "      <td>2010-01-04</td>\n",
              "      <td>1 The Haven, Mornington</td>\n",
              "      <td>NaN</td>\n",
              "      <td>Meath</td>\n",
              "      <td>400,000.00</td>\n",
              "      <td>No</td>\n",
              "      <td>No</td>\n",
              "      <td>Second-Hand Dwelling house /Apartment</td>\n",
              "      <td>NaN</td>\n",
              "    </tr>\n",
              "    <tr>\n",
              "      <th>4</th>\n",
              "      <td>2010-01-04</td>\n",
              "      <td>11 Melville Heights, Kilkenny</td>\n",
              "      <td>NaN</td>\n",
              "      <td>Kilkenny</td>\n",
              "      <td>160,000.00</td>\n",
              "      <td>No</td>\n",
              "      <td>No</td>\n",
              "      <td>Second-Hand Dwelling house /Apartment</td>\n",
              "      <td>NaN</td>\n",
              "    </tr>\n",
              "  </tbody>\n",
              "</table>\n",
              "</div>"
            ],
            "text/plain": [
              "  Date of Sale  ...                          Property Size Description\n",
              "0   2010-01-01  ...                                                NaN\n",
              "1   2010-01-03  ...  greater than or equal to 38 sq metres and less...\n",
              "2   2010-01-04  ...                                                NaN\n",
              "3   2010-01-04  ...                                                NaN\n",
              "4   2010-01-04  ...                                                NaN\n",
              "\n",
              "[5 rows x 9 columns]"
            ]
          },
          "metadata": {
            "tags": []
          },
          "execution_count": 89
        }
      ]
    },
    {
      "cell_type": "code",
      "metadata": {
        "id": "-_V-g6FamJbK",
        "colab_type": "code",
        "colab": {}
      },
      "source": [
        "df['Price'] = df['Price'].apply(lambda x: x.lstrip('\\x80'))"
      ],
      "execution_count": 0,
      "outputs": []
    },
    {
      "cell_type": "code",
      "metadata": {
        "id": "97NbzWm8mJbM",
        "colab_type": "code",
        "colab": {
          "base_uri": "https://localhost:8080/",
          "height": 345
        },
        "outputId": "e28cd8f7-076e-46cf-c2de-481a3686e4e3"
      },
      "source": [
        "df.head()"
      ],
      "execution_count": 91,
      "outputs": [
        {
          "output_type": "execute_result",
          "data": {
            "text/html": [
              "<div>\n",
              "<style scoped>\n",
              "    .dataframe tbody tr th:only-of-type {\n",
              "        vertical-align: middle;\n",
              "    }\n",
              "\n",
              "    .dataframe tbody tr th {\n",
              "        vertical-align: top;\n",
              "    }\n",
              "\n",
              "    .dataframe thead th {\n",
              "        text-align: right;\n",
              "    }\n",
              "</style>\n",
              "<table border=\"1\" class=\"dataframe\">\n",
              "  <thead>\n",
              "    <tr style=\"text-align: right;\">\n",
              "      <th></th>\n",
              "      <th>Date of Sale</th>\n",
              "      <th>Address</th>\n",
              "      <th>Postal Code</th>\n",
              "      <th>County</th>\n",
              "      <th>Price</th>\n",
              "      <th>Not Full Market Price</th>\n",
              "      <th>VAT Exclusive</th>\n",
              "      <th>Description of Property</th>\n",
              "      <th>Property Size Description</th>\n",
              "    </tr>\n",
              "  </thead>\n",
              "  <tbody>\n",
              "    <tr>\n",
              "      <th>0</th>\n",
              "      <td>2010-01-01</td>\n",
              "      <td>5 Braemor Drive, Churchtown, Co.Dublin</td>\n",
              "      <td>NaN</td>\n",
              "      <td>Dublin</td>\n",
              "      <td>343,000.00</td>\n",
              "      <td>No</td>\n",
              "      <td>No</td>\n",
              "      <td>Second-Hand Dwelling house /Apartment</td>\n",
              "      <td>NaN</td>\n",
              "    </tr>\n",
              "    <tr>\n",
              "      <th>1</th>\n",
              "      <td>2010-01-03</td>\n",
              "      <td>134 Ashewood Walk, Summerhill Lane, Portlaoise</td>\n",
              "      <td>NaN</td>\n",
              "      <td>Laois</td>\n",
              "      <td>185,000.00</td>\n",
              "      <td>No</td>\n",
              "      <td>Yes</td>\n",
              "      <td>New Dwelling house /Apartment</td>\n",
              "      <td>greater than or equal to 38 sq metres and less...</td>\n",
              "    </tr>\n",
              "    <tr>\n",
              "      <th>2</th>\n",
              "      <td>2010-01-04</td>\n",
              "      <td>1 Meadow Avenue, Dundrum, Dublin 14</td>\n",
              "      <td>NaN</td>\n",
              "      <td>Dublin</td>\n",
              "      <td>438,500.00</td>\n",
              "      <td>No</td>\n",
              "      <td>No</td>\n",
              "      <td>Second-Hand Dwelling house /Apartment</td>\n",
              "      <td>NaN</td>\n",
              "    </tr>\n",
              "    <tr>\n",
              "      <th>3</th>\n",
              "      <td>2010-01-04</td>\n",
              "      <td>1 The Haven, Mornington</td>\n",
              "      <td>NaN</td>\n",
              "      <td>Meath</td>\n",
              "      <td>400,000.00</td>\n",
              "      <td>No</td>\n",
              "      <td>No</td>\n",
              "      <td>Second-Hand Dwelling house /Apartment</td>\n",
              "      <td>NaN</td>\n",
              "    </tr>\n",
              "    <tr>\n",
              "      <th>4</th>\n",
              "      <td>2010-01-04</td>\n",
              "      <td>11 Melville Heights, Kilkenny</td>\n",
              "      <td>NaN</td>\n",
              "      <td>Kilkenny</td>\n",
              "      <td>160,000.00</td>\n",
              "      <td>No</td>\n",
              "      <td>No</td>\n",
              "      <td>Second-Hand Dwelling house /Apartment</td>\n",
              "      <td>NaN</td>\n",
              "    </tr>\n",
              "  </tbody>\n",
              "</table>\n",
              "</div>"
            ],
            "text/plain": [
              "  Date of Sale  ...                          Property Size Description\n",
              "0   2010-01-01  ...                                                NaN\n",
              "1   2010-01-03  ...  greater than or equal to 38 sq metres and less...\n",
              "2   2010-01-04  ...                                                NaN\n",
              "3   2010-01-04  ...                                                NaN\n",
              "4   2010-01-04  ...                                                NaN\n",
              "\n",
              "[5 rows x 9 columns]"
            ]
          },
          "metadata": {
            "tags": []
          },
          "execution_count": 91
        }
      ]
    },
    {
      "cell_type": "code",
      "metadata": {
        "id": "kDf5EvOWmJbQ",
        "colab_type": "code",
        "colab": {}
      },
      "source": [
        "import numpy as np"
      ],
      "execution_count": 0,
      "outputs": []
    },
    {
      "cell_type": "code",
      "metadata": {
        "scrolled": true,
        "id": "6wmGTqVumJbS",
        "colab_type": "code",
        "colab": {}
      },
      "source": [
        "df['Price'] = pd.to_numeric(df['Price'].str.replace(',',''))"
      ],
      "execution_count": 0,
      "outputs": []
    },
    {
      "cell_type": "code",
      "metadata": {
        "id": "iLnAZS7dmJbV",
        "colab_type": "code",
        "colab": {
          "base_uri": "https://localhost:8080/",
          "height": 345
        },
        "outputId": "b10a4985-d245-493f-ddf6-1581b770f375"
      },
      "source": [
        "df.head()"
      ],
      "execution_count": 94,
      "outputs": [
        {
          "output_type": "execute_result",
          "data": {
            "text/html": [
              "<div>\n",
              "<style scoped>\n",
              "    .dataframe tbody tr th:only-of-type {\n",
              "        vertical-align: middle;\n",
              "    }\n",
              "\n",
              "    .dataframe tbody tr th {\n",
              "        vertical-align: top;\n",
              "    }\n",
              "\n",
              "    .dataframe thead th {\n",
              "        text-align: right;\n",
              "    }\n",
              "</style>\n",
              "<table border=\"1\" class=\"dataframe\">\n",
              "  <thead>\n",
              "    <tr style=\"text-align: right;\">\n",
              "      <th></th>\n",
              "      <th>Date of Sale</th>\n",
              "      <th>Address</th>\n",
              "      <th>Postal Code</th>\n",
              "      <th>County</th>\n",
              "      <th>Price</th>\n",
              "      <th>Not Full Market Price</th>\n",
              "      <th>VAT Exclusive</th>\n",
              "      <th>Description of Property</th>\n",
              "      <th>Property Size Description</th>\n",
              "    </tr>\n",
              "  </thead>\n",
              "  <tbody>\n",
              "    <tr>\n",
              "      <th>0</th>\n",
              "      <td>2010-01-01</td>\n",
              "      <td>5 Braemor Drive, Churchtown, Co.Dublin</td>\n",
              "      <td>NaN</td>\n",
              "      <td>Dublin</td>\n",
              "      <td>343000.0</td>\n",
              "      <td>No</td>\n",
              "      <td>No</td>\n",
              "      <td>Second-Hand Dwelling house /Apartment</td>\n",
              "      <td>NaN</td>\n",
              "    </tr>\n",
              "    <tr>\n",
              "      <th>1</th>\n",
              "      <td>2010-01-03</td>\n",
              "      <td>134 Ashewood Walk, Summerhill Lane, Portlaoise</td>\n",
              "      <td>NaN</td>\n",
              "      <td>Laois</td>\n",
              "      <td>185000.0</td>\n",
              "      <td>No</td>\n",
              "      <td>Yes</td>\n",
              "      <td>New Dwelling house /Apartment</td>\n",
              "      <td>greater than or equal to 38 sq metres and less...</td>\n",
              "    </tr>\n",
              "    <tr>\n",
              "      <th>2</th>\n",
              "      <td>2010-01-04</td>\n",
              "      <td>1 Meadow Avenue, Dundrum, Dublin 14</td>\n",
              "      <td>NaN</td>\n",
              "      <td>Dublin</td>\n",
              "      <td>438500.0</td>\n",
              "      <td>No</td>\n",
              "      <td>No</td>\n",
              "      <td>Second-Hand Dwelling house /Apartment</td>\n",
              "      <td>NaN</td>\n",
              "    </tr>\n",
              "    <tr>\n",
              "      <th>3</th>\n",
              "      <td>2010-01-04</td>\n",
              "      <td>1 The Haven, Mornington</td>\n",
              "      <td>NaN</td>\n",
              "      <td>Meath</td>\n",
              "      <td>400000.0</td>\n",
              "      <td>No</td>\n",
              "      <td>No</td>\n",
              "      <td>Second-Hand Dwelling house /Apartment</td>\n",
              "      <td>NaN</td>\n",
              "    </tr>\n",
              "    <tr>\n",
              "      <th>4</th>\n",
              "      <td>2010-01-04</td>\n",
              "      <td>11 Melville Heights, Kilkenny</td>\n",
              "      <td>NaN</td>\n",
              "      <td>Kilkenny</td>\n",
              "      <td>160000.0</td>\n",
              "      <td>No</td>\n",
              "      <td>No</td>\n",
              "      <td>Second-Hand Dwelling house /Apartment</td>\n",
              "      <td>NaN</td>\n",
              "    </tr>\n",
              "  </tbody>\n",
              "</table>\n",
              "</div>"
            ],
            "text/plain": [
              "  Date of Sale  ...                          Property Size Description\n",
              "0   2010-01-01  ...                                                NaN\n",
              "1   2010-01-03  ...  greater than or equal to 38 sq metres and less...\n",
              "2   2010-01-04  ...                                                NaN\n",
              "3   2010-01-04  ...                                                NaN\n",
              "4   2010-01-04  ...                                                NaN\n",
              "\n",
              "[5 rows x 9 columns]"
            ]
          },
          "metadata": {
            "tags": []
          },
          "execution_count": 94
        }
      ]
    },
    {
      "cell_type": "code",
      "metadata": {
        "id": "_PgwzrVqmJbX",
        "colab_type": "code",
        "colab": {
          "base_uri": "https://localhost:8080/",
          "height": 806
        },
        "outputId": "a34e8a5e-5214-4716-9b39-338d999a0269"
      },
      "source": [
        "df[df['Date of Sale'] > '2018-01-01'].reset_index(drop=True)"
      ],
      "execution_count": 95,
      "outputs": [
        {
          "output_type": "execute_result",
          "data": {
            "text/html": [
              "<div>\n",
              "<style scoped>\n",
              "    .dataframe tbody tr th:only-of-type {\n",
              "        vertical-align: middle;\n",
              "    }\n",
              "\n",
              "    .dataframe tbody tr th {\n",
              "        vertical-align: top;\n",
              "    }\n",
              "\n",
              "    .dataframe thead th {\n",
              "        text-align: right;\n",
              "    }\n",
              "</style>\n",
              "<table border=\"1\" class=\"dataframe\">\n",
              "  <thead>\n",
              "    <tr style=\"text-align: right;\">\n",
              "      <th></th>\n",
              "      <th>Date of Sale</th>\n",
              "      <th>Address</th>\n",
              "      <th>Postal Code</th>\n",
              "      <th>County</th>\n",
              "      <th>Price</th>\n",
              "      <th>Not Full Market Price</th>\n",
              "      <th>VAT Exclusive</th>\n",
              "      <th>Description of Property</th>\n",
              "      <th>Property Size Description</th>\n",
              "    </tr>\n",
              "  </thead>\n",
              "  <tbody>\n",
              "    <tr>\n",
              "      <th>0</th>\n",
              "      <td>2018-01-02</td>\n",
              "      <td>1 ABBEY ST, HOWTH, DUBLIN</td>\n",
              "      <td>Dublin 7</td>\n",
              "      <td>Dublin</td>\n",
              "      <td>710000.0</td>\n",
              "      <td>No</td>\n",
              "      <td>No</td>\n",
              "      <td>Second-Hand Dwelling house /Apartment</td>\n",
              "      <td>NaN</td>\n",
              "    </tr>\n",
              "    <tr>\n",
              "      <th>1</th>\n",
              "      <td>2018-01-02</td>\n",
              "      <td>1 Cluain na Ri, Ballycullane, New Ross</td>\n",
              "      <td>NaN</td>\n",
              "      <td>Wexford</td>\n",
              "      <td>193833.0</td>\n",
              "      <td>No</td>\n",
              "      <td>Yes</td>\n",
              "      <td>New Dwelling house /Apartment</td>\n",
              "      <td>greater than or equal to 125 sq metres</td>\n",
              "    </tr>\n",
              "    <tr>\n",
              "      <th>2</th>\n",
              "      <td>2018-01-02</td>\n",
              "      <td>1 ROSEVILLE, LOWER ROAD, SHANKILL</td>\n",
              "      <td>Dublin 18</td>\n",
              "      <td>Dublin</td>\n",
              "      <td>627230.7</td>\n",
              "      <td>No</td>\n",
              "      <td>No</td>\n",
              "      <td>Second-Hand Dwelling house /Apartment</td>\n",
              "      <td>NaN</td>\n",
              "    </tr>\n",
              "    <tr>\n",
              "      <th>3</th>\n",
              "      <td>2018-01-02</td>\n",
              "      <td>11 Castlelynn, Soldiers Road, Bray</td>\n",
              "      <td>NaN</td>\n",
              "      <td>Wicklow</td>\n",
              "      <td>545000.0</td>\n",
              "      <td>No</td>\n",
              "      <td>Yes</td>\n",
              "      <td>New Dwelling house /Apartment</td>\n",
              "      <td>greater than or equal to 125 sq metres</td>\n",
              "    </tr>\n",
              "    <tr>\n",
              "      <th>4</th>\n",
              "      <td>2018-01-02</td>\n",
              "      <td>12 HEYWOOD DR, ARD GAOITHE, CLONMEL</td>\n",
              "      <td>NaN</td>\n",
              "      <td>Tipperary</td>\n",
              "      <td>150000.0</td>\n",
              "      <td>No</td>\n",
              "      <td>No</td>\n",
              "      <td>Second-Hand Dwelling house /Apartment</td>\n",
              "      <td>NaN</td>\n",
              "    </tr>\n",
              "    <tr>\n",
              "      <th>...</th>\n",
              "      <td>...</td>\n",
              "      <td>...</td>\n",
              "      <td>...</td>\n",
              "      <td>...</td>\n",
              "      <td>...</td>\n",
              "      <td>...</td>\n",
              "      <td>...</td>\n",
              "      <td>...</td>\n",
              "      <td>...</td>\n",
              "    </tr>\n",
              "    <tr>\n",
              "      <th>120845</th>\n",
              "      <td>2020-04-24</td>\n",
              "      <td>CLERAUN, NEWTOWNCASHEL, COUNTY LONGFORD</td>\n",
              "      <td>NaN</td>\n",
              "      <td>Longford</td>\n",
              "      <td>33000.0</td>\n",
              "      <td>No</td>\n",
              "      <td>No</td>\n",
              "      <td>Second-Hand Dwelling house /Apartment</td>\n",
              "      <td>NaN</td>\n",
              "    </tr>\n",
              "    <tr>\n",
              "      <th>120846</th>\n",
              "      <td>2020-04-24</td>\n",
              "      <td>COOLOWEN, GLENCAIRN, LISMORE</td>\n",
              "      <td>NaN</td>\n",
              "      <td>Waterford</td>\n",
              "      <td>247000.0</td>\n",
              "      <td>No</td>\n",
              "      <td>No</td>\n",
              "      <td>Second-Hand Dwelling house /Apartment</td>\n",
              "      <td>NaN</td>\n",
              "    </tr>\n",
              "    <tr>\n",
              "      <th>120847</th>\n",
              "      <td>2020-04-24</td>\n",
              "      <td>KNOCKVILLE, KNOCKOWEN RD, TULLAMORE</td>\n",
              "      <td>NaN</td>\n",
              "      <td>Offaly</td>\n",
              "      <td>275000.0</td>\n",
              "      <td>No</td>\n",
              "      <td>No</td>\n",
              "      <td>Second-Hand Dwelling house /Apartment</td>\n",
              "      <td>NaN</td>\n",
              "    </tr>\n",
              "    <tr>\n",
              "      <th>120848</th>\n",
              "      <td>2020-04-24</td>\n",
              "      <td>NEW ROW, ABBEYLEIX, LAOIS</td>\n",
              "      <td>NaN</td>\n",
              "      <td>Laois</td>\n",
              "      <td>85000.0</td>\n",
              "      <td>No</td>\n",
              "      <td>No</td>\n",
              "      <td>Second-Hand Dwelling house /Apartment</td>\n",
              "      <td>NaN</td>\n",
              "    </tr>\n",
              "    <tr>\n",
              "      <th>120849</th>\n",
              "      <td>2020-04-24</td>\n",
              "      <td>THE LODGE, MORNINGTON, MULTYFARMHAM</td>\n",
              "      <td>NaN</td>\n",
              "      <td>Westmeath</td>\n",
              "      <td>52000.0</td>\n",
              "      <td>No</td>\n",
              "      <td>No</td>\n",
              "      <td>Second-Hand Dwelling house /Apartment</td>\n",
              "      <td>NaN</td>\n",
              "    </tr>\n",
              "  </tbody>\n",
              "</table>\n",
              "<p>120850 rows × 9 columns</p>\n",
              "</div>"
            ],
            "text/plain": [
              "       Date of Sale  ...               Property Size Description\n",
              "0        2018-01-02  ...                                     NaN\n",
              "1        2018-01-02  ...  greater than or equal to 125 sq metres\n",
              "2        2018-01-02  ...                                     NaN\n",
              "3        2018-01-02  ...  greater than or equal to 125 sq metres\n",
              "4        2018-01-02  ...                                     NaN\n",
              "...             ...  ...                                     ...\n",
              "120845   2020-04-24  ...                                     NaN\n",
              "120846   2020-04-24  ...                                     NaN\n",
              "120847   2020-04-24  ...                                     NaN\n",
              "120848   2020-04-24  ...                                     NaN\n",
              "120849   2020-04-24  ...                                     NaN\n",
              "\n",
              "[120850 rows x 9 columns]"
            ]
          },
          "metadata": {
            "tags": []
          },
          "execution_count": 95
        }
      ]
    },
    {
      "cell_type": "code",
      "metadata": {
        "id": "uacIKmnEtAND",
        "colab_type": "code",
        "colab": {
          "base_uri": "https://localhost:8080/",
          "height": 193
        },
        "outputId": "7a5693ca-c1ee-48a5-a9e5-2832a910bddf"
      },
      "source": [
        "!pip install chart_studio\n",
        "import pandas as pd\n",
        "import numpy as np\n",
        "import chart_studio\n",
        "import chart_studio.plotly as py\n",
        "import seaborn as sns\n",
        "import matplotlib.pyplot as plt\n",
        "\n",
        "\n",
        "\n"
      ],
      "execution_count": 96,
      "outputs": [
        {
          "output_type": "stream",
          "text": [
            "Requirement already satisfied: chart_studio in /usr/local/lib/python3.6/dist-packages (1.1.0)\n",
            "Requirement already satisfied: retrying>=1.3.3 in /usr/local/lib/python3.6/dist-packages (from chart_studio) (1.3.3)\n",
            "Requirement already satisfied: plotly in /usr/local/lib/python3.6/dist-packages (from chart_studio) (4.4.1)\n",
            "Requirement already satisfied: requests in /usr/local/lib/python3.6/dist-packages (from chart_studio) (2.21.0)\n",
            "Requirement already satisfied: six in /usr/local/lib/python3.6/dist-packages (from chart_studio) (1.12.0)\n",
            "Requirement already satisfied: urllib3<1.25,>=1.21.1 in /usr/local/lib/python3.6/dist-packages (from requests->chart_studio) (1.24.3)\n",
            "Requirement already satisfied: chardet<3.1.0,>=3.0.2 in /usr/local/lib/python3.6/dist-packages (from requests->chart_studio) (3.0.4)\n",
            "Requirement already satisfied: idna<2.9,>=2.5 in /usr/local/lib/python3.6/dist-packages (from requests->chart_studio) (2.8)\n",
            "Requirement already satisfied: certifi>=2017.4.17 in /usr/local/lib/python3.6/dist-packages (from requests->chart_studio) (2020.4.5.1)\n"
          ],
          "name": "stdout"
        }
      ]
    },
    {
      "cell_type": "code",
      "metadata": {
        "id": "_OBFYm-Munhy",
        "colab_type": "code",
        "colab": {
          "base_uri": "https://localhost:8080/",
          "height": 310
        },
        "outputId": "80917f8b-607b-4aaf-ab58-87d31db97f4a"
      },
      "source": [
        "df = df[df['Date of Sale'] > '2019-01-01'].reset_index(drop=True)\n",
        "df = df.drop('Not Full Market Price', axis=1)\n",
        "df.head()"
      ],
      "execution_count": 128,
      "outputs": [
        {
          "output_type": "execute_result",
          "data": {
            "text/html": [
              "<div>\n",
              "<style scoped>\n",
              "    .dataframe tbody tr th:only-of-type {\n",
              "        vertical-align: middle;\n",
              "    }\n",
              "\n",
              "    .dataframe tbody tr th {\n",
              "        vertical-align: top;\n",
              "    }\n",
              "\n",
              "    .dataframe thead th {\n",
              "        text-align: right;\n",
              "    }\n",
              "</style>\n",
              "<table border=\"1\" class=\"dataframe\">\n",
              "  <thead>\n",
              "    <tr style=\"text-align: right;\">\n",
              "      <th></th>\n",
              "      <th>Date of Sale</th>\n",
              "      <th>Address</th>\n",
              "      <th>Postal Code</th>\n",
              "      <th>County</th>\n",
              "      <th>Price</th>\n",
              "      <th>VAT Exclusive</th>\n",
              "      <th>Description of Property</th>\n",
              "      <th>Property Size Description</th>\n",
              "    </tr>\n",
              "  </thead>\n",
              "  <tbody>\n",
              "    <tr>\n",
              "      <th>0</th>\n",
              "      <td>2019-01-02</td>\n",
              "      <td>10 ROCKVIEW TERRACE, DONERAILE, CO CORK</td>\n",
              "      <td>NaN</td>\n",
              "      <td>Cork</td>\n",
              "      <td>105000.00</td>\n",
              "      <td>No</td>\n",
              "      <td>Second-Hand Dwelling house /Apartment</td>\n",
              "      <td>NaN</td>\n",
              "    </tr>\n",
              "    <tr>\n",
              "      <th>1</th>\n",
              "      <td>2019-01-02</td>\n",
              "      <td>102 SLIABH RUA, MOATE, WESTMEATH</td>\n",
              "      <td>NaN</td>\n",
              "      <td>Westmeath</td>\n",
              "      <td>165000.00</td>\n",
              "      <td>No</td>\n",
              "      <td>Second-Hand Dwelling house /Apartment</td>\n",
              "      <td>NaN</td>\n",
              "    </tr>\n",
              "    <tr>\n",
              "      <th>2</th>\n",
              "      <td>2019-01-02</td>\n",
              "      <td>15 MEADOW COURT, DAINGEAN, CO OFFALY</td>\n",
              "      <td>NaN</td>\n",
              "      <td>Offaly</td>\n",
              "      <td>125000.00</td>\n",
              "      <td>No</td>\n",
              "      <td>Second-Hand Dwelling house /Apartment</td>\n",
              "      <td>NaN</td>\n",
              "    </tr>\n",
              "    <tr>\n",
              "      <th>3</th>\n",
              "      <td>2019-01-02</td>\n",
              "      <td>16 THE HAWTHORNS, SKIBBEREEN, CORK</td>\n",
              "      <td>NaN</td>\n",
              "      <td>Cork</td>\n",
              "      <td>195000.00</td>\n",
              "      <td>No</td>\n",
              "      <td>Second-Hand Dwelling house /Apartment</td>\n",
              "      <td>NaN</td>\n",
              "    </tr>\n",
              "    <tr>\n",
              "      <th>4</th>\n",
              "      <td>2019-01-02</td>\n",
              "      <td>27 Rookery Woods, Ballycasheen, Killarney</td>\n",
              "      <td>NaN</td>\n",
              "      <td>Kerry</td>\n",
              "      <td>321585.17</td>\n",
              "      <td>Yes</td>\n",
              "      <td>New Dwelling house /Apartment</td>\n",
              "      <td>NaN</td>\n",
              "    </tr>\n",
              "  </tbody>\n",
              "</table>\n",
              "</div>"
            ],
            "text/plain": [
              "  Date of Sale  ... Property Size Description\n",
              "0   2019-01-02  ...                       NaN\n",
              "1   2019-01-02  ...                       NaN\n",
              "2   2019-01-02  ...                       NaN\n",
              "3   2019-01-02  ...                       NaN\n",
              "4   2019-01-02  ...                       NaN\n",
              "\n",
              "[5 rows x 8 columns]"
            ]
          },
          "metadata": {
            "tags": []
          },
          "execution_count": 128
        }
      ]
    },
    {
      "cell_type": "code",
      "metadata": {
        "id": "thIuOfqjuuLP",
        "colab_type": "code",
        "colab": {
          "base_uri": "https://localhost:8080/",
          "height": 486
        },
        "outputId": "659947f3-b4ca-4c63-f42b-3a21ed905d55"
      },
      "source": [
        "df['County'].value_counts()"
      ],
      "execution_count": 129,
      "outputs": [
        {
          "output_type": "execute_result",
          "data": {
            "text/plain": [
              "Dublin       21261\n",
              "Cork          7369\n",
              "Kildare       3704\n",
              "Galway        3214\n",
              "Meath         3187\n",
              "Limerick      2539\n",
              "Wicklow       2174\n",
              "Wexford       2153\n",
              "Louth         1972\n",
              "Kerry         1802\n",
              "Tipperary     1794\n",
              "Waterford     1764\n",
              "Donegal       1741\n",
              "Mayo          1584\n",
              "Clare         1466\n",
              "Westmeath     1316\n",
              "Laois         1003\n",
              "Sligo         1003\n",
              "Kilkenny       993\n",
              "Cavan          990\n",
              "Roscommon      908\n",
              "Offaly         757\n",
              "Carlow         730\n",
              "Leitrim        538\n",
              "Longford       480\n",
              "Monaghan       437\n",
              "Name: County, dtype: int64"
            ]
          },
          "metadata": {
            "tags": []
          },
          "execution_count": 129
        }
      ]
    },
    {
      "cell_type": "code",
      "metadata": {
        "id": "2w5nBsoZvPpM",
        "colab_type": "code",
        "colab": {
          "base_uri": "https://localhost:8080/",
          "height": 69
        },
        "outputId": "026c68fb-7966-41f4-f986-1400d60e28a9"
      },
      "source": [
        "print('Dublin mean: €{:.2f}'.format(df[df['County']=='Dublin']['Price'].mean()))\n",
        "print('Dublin median: €{:.2f}'.format(df[df['County']=='Dublin']['Price'].median()))\n",
        "print('Dublin standard deviation: €{:.2f}'.format(df[df['County']=='Dublin']['Price'].std()))"
      ],
      "execution_count": 130,
      "outputs": [
        {
          "output_type": "stream",
          "text": [
            "Dublin mean: €516806.92\n",
            "Dublin median: €349000.00\n",
            "Dublin standard deviation: €2370665.49\n"
          ],
          "name": "stdout"
        }
      ]
    },
    {
      "cell_type": "code",
      "metadata": {
        "id": "0I8XuLu4DTlk",
        "colab_type": "code",
        "colab": {}
      },
      "source": [
        "max_house_prices = [(df[df['County'] == county]['Price'].max())/10**6 for county in df['County'].unique()]"
      ],
      "execution_count": 0,
      "outputs": []
    },
    {
      "cell_type": "code",
      "metadata": {
        "id": "k7F8sRoADXL5",
        "colab_type": "code",
        "colab": {
          "base_uri": "https://localhost:8080/",
          "height": 446
        },
        "outputId": "63a1b93b-deb1-4a4f-a546-8329170042d5"
      },
      "source": [
        "fig, ax = plt.subplots(figsize=(25, 10))\n",
        "plt.ylabel('Max Residential Property Price (€m)')\n",
        "sns.barplot(df['County'].unique(), max_house_prices)"
      ],
      "execution_count": 132,
      "outputs": [
        {
          "output_type": "execute_result",
          "data": {
            "text/plain": [
              "<matplotlib.axes._subplots.AxesSubplot at 0x7f61a58dbdd8>"
            ]
          },
          "metadata": {
            "tags": []
          },
          "execution_count": 132
        },
        {
          "output_type": "display_data",
          "data": {
            "image/png": "[encoded data removed]",
            "text/plain": [
              "<Figure size 1800x720 with 1 Axes>"
            ]
          },
          "metadata": {
            "tags": [],
            "needs_background": "light"
          }
        }
      ]
    },
    {
      "cell_type": "code",
      "metadata": {
        "id": "xS0oUWvBEs37",
        "colab_type": "code",
        "colab": {
          "base_uri": "https://localhost:8080/",
          "height": 441
        },
        "outputId": "04befd87-4fba-465b-c3db-e5fa3f98ebb8"
      },
      "source": [
        "dublin = df[df['Postal Code'].str.contains(\"Dublin\", na=False)]\n",
        "mean_dublin_prices = [dublin[dublin['Postal Code'] == postal_code]['Price'].median() for postal_code in dublin['Postal Code'].unique()]\n",
        "plt.subplots(figsize=(25, 10))\n",
        "plt.ylabel('Mean Residential Property Price (€m)')\n",
        "sns.barplot(dublin['Postal Code'].unique(), mean_dublin_prices)"
      ],
      "execution_count": 133,
      "outputs": [
        {
          "output_type": "execute_result",
          "data": {
            "text/plain": [
              "<matplotlib.axes._subplots.AxesSubplot at 0x7f61a832fc18>"
            ]
          },
          "metadata": {
            "tags": []
          },
          "execution_count": 133
        },
        {
          "output_type": "display_data",
          "data": {
            "image/png": "[encoded data removed]",
            "text/plain": [
              "<Figure size 1800x720 with 1 Axes>"
            ]
          },
          "metadata": {
            "tags": [],
            "needs_background": "light"
          }
        }
      ]
    },
    {
      "cell_type": "code",
      "metadata": {
        "id": "7xgmw0zmJ1sv",
        "colab_type": "code",
        "colab": {
          "base_uri": "https://localhost:8080/",
          "height": 739
        },
        "outputId": "dade0e8c-a8f3-464a-e5d2-0826d5964ee6"
      },
      "source": [
        "means = pd.DataFrame()\n",
        "means['areas'] = dublin['Postal Code'].unique()\n",
        "means['means'] = mean_dublin_prices\n",
        "means.sort_values(by='means')"
      ],
      "execution_count": 134,
      "outputs": [
        {
          "output_type": "execute_result",
          "data": {
            "text/html": [
              "<div>\n",
              "<style scoped>\n",
              "    .dataframe tbody tr th:only-of-type {\n",
              "        vertical-align: middle;\n",
              "    }\n",
              "\n",
              "    .dataframe tbody tr th {\n",
              "        vertical-align: top;\n",
              "    }\n",
              "\n",
              "    .dataframe thead th {\n",
              "        text-align: right;\n",
              "    }\n",
              "</style>\n",
              "<table border=\"1\" class=\"dataframe\">\n",
              "  <thead>\n",
              "    <tr style=\"text-align: right;\">\n",
              "      <th></th>\n",
              "      <th>areas</th>\n",
              "      <th>means</th>\n",
              "    </tr>\n",
              "  </thead>\n",
              "  <tbody>\n",
              "    <tr>\n",
              "      <th>15</th>\n",
              "      <td>Dublin 10</td>\n",
              "      <td>225000.000</td>\n",
              "    </tr>\n",
              "    <tr>\n",
              "      <th>2</th>\n",
              "      <td>Dublin 11</td>\n",
              "      <td>230000.000</td>\n",
              "    </tr>\n",
              "    <tr>\n",
              "      <th>9</th>\n",
              "      <td>Dublin 22</td>\n",
              "      <td>249950.000</td>\n",
              "    </tr>\n",
              "    <tr>\n",
              "      <th>20</th>\n",
              "      <td>Dublin 17</td>\n",
              "      <td>260000.000</td>\n",
              "    </tr>\n",
              "    <tr>\n",
              "      <th>11</th>\n",
              "      <td>Dublin 24</td>\n",
              "      <td>277533.000</td>\n",
              "    </tr>\n",
              "    <tr>\n",
              "      <th>10</th>\n",
              "      <td>Dublin 1</td>\n",
              "      <td>299559.000</td>\n",
              "    </tr>\n",
              "    <tr>\n",
              "      <th>1</th>\n",
              "      <td>Dublin 15</td>\n",
              "      <td>307000.000</td>\n",
              "    </tr>\n",
              "    <tr>\n",
              "      <th>17</th>\n",
              "      <td>Dublin 12</td>\n",
              "      <td>317500.000</td>\n",
              "    </tr>\n",
              "    <tr>\n",
              "      <th>5</th>\n",
              "      <td>Dublin 8</td>\n",
              "      <td>318100.000</td>\n",
              "    </tr>\n",
              "    <tr>\n",
              "      <th>14</th>\n",
              "      <td>Dublin 20</td>\n",
              "      <td>325000.000</td>\n",
              "    </tr>\n",
              "    <tr>\n",
              "      <th>3</th>\n",
              "      <td>Dublin 7</td>\n",
              "      <td>335000.000</td>\n",
              "    </tr>\n",
              "    <tr>\n",
              "      <th>4</th>\n",
              "      <td>Dublin 13</td>\n",
              "      <td>350000.000</td>\n",
              "    </tr>\n",
              "    <tr>\n",
              "      <th>6</th>\n",
              "      <td>Dublin 9</td>\n",
              "      <td>355500.000</td>\n",
              "    </tr>\n",
              "    <tr>\n",
              "      <th>0</th>\n",
              "      <td>Dublin 5</td>\n",
              "      <td>385000.000</td>\n",
              "    </tr>\n",
              "    <tr>\n",
              "      <th>8</th>\n",
              "      <td>Dublin 3</td>\n",
              "      <td>399500.000</td>\n",
              "    </tr>\n",
              "    <tr>\n",
              "      <th>19</th>\n",
              "      <td>Dublin 2</td>\n",
              "      <td>410000.000</td>\n",
              "    </tr>\n",
              "    <tr>\n",
              "      <th>7</th>\n",
              "      <td>Dublin 18</td>\n",
              "      <td>435902.905</td>\n",
              "    </tr>\n",
              "    <tr>\n",
              "      <th>13</th>\n",
              "      <td>Dublin 16</td>\n",
              "      <td>455000.000</td>\n",
              "    </tr>\n",
              "    <tr>\n",
              "      <th>21</th>\n",
              "      <td>Dublin 6w</td>\n",
              "      <td>485419.000</td>\n",
              "    </tr>\n",
              "    <tr>\n",
              "      <th>12</th>\n",
              "      <td>Dublin 4</td>\n",
              "      <td>490000.000</td>\n",
              "    </tr>\n",
              "    <tr>\n",
              "      <th>16</th>\n",
              "      <td>Dublin 14</td>\n",
              "      <td>559000.000</td>\n",
              "    </tr>\n",
              "    <tr>\n",
              "      <th>18</th>\n",
              "      <td>Dublin 6</td>\n",
              "      <td>612500.000</td>\n",
              "    </tr>\n",
              "  </tbody>\n",
              "</table>\n",
              "</div>"
            ],
            "text/plain": [
              "        areas       means\n",
              "15  Dublin 10  225000.000\n",
              "2   Dublin 11  230000.000\n",
              "9   Dublin 22  249950.000\n",
              "20  Dublin 17  260000.000\n",
              "11  Dublin 24  277533.000\n",
              "10   Dublin 1  299559.000\n",
              "1   Dublin 15  307000.000\n",
              "17  Dublin 12  317500.000\n",
              "5    Dublin 8  318100.000\n",
              "14  Dublin 20  325000.000\n",
              "3    Dublin 7  335000.000\n",
              "4   Dublin 13  350000.000\n",
              "6    Dublin 9  355500.000\n",
              "0    Dublin 5  385000.000\n",
              "8    Dublin 3  399500.000\n",
              "19   Dublin 2  410000.000\n",
              "7   Dublin 18  435902.905\n",
              "13  Dublin 16  455000.000\n",
              "21  Dublin 6w  485419.000\n",
              "12   Dublin 4  490000.000\n",
              "16  Dublin 14  559000.000\n",
              "18   Dublin 6  612500.000"
            ]
          },
          "metadata": {
            "tags": []
          },
          "execution_count": 134
        }
      ]
    },
    {
      "cell_type": "code",
      "metadata": {
        "id": "AEQ99LyCHt00",
        "colab_type": "code",
        "colab": {
          "base_uri": "https://localhost:8080/",
          "height": 703
        },
        "outputId": "32b4a671-730e-47f2-c3b2-e85438be9fba"
      },
      "source": [
        "\n",
        "\n",
        "post_codes = np.delete(df[df['County'] == 'Dublin']['Postal Code'].unique(), 2)\n",
        "\n",
        "median_per_postal_code = [df['Price'][df['Postal Code']==postal_code].median() for postal_code in post_codes]\n",
        "median_per_postal_code = np.asarray(median_per_postal_code)\n",
        "fig, ax = plt.subplots(figsize=(22, 15))\n",
        "# plt.errorbar(post_codes,mean_per_postal_code, std_per_postal_code, linestyle='None', marker='*',\n",
        "plt.bar(post_codes,[price/10**3 for price in median_per_postal_code])\n",
        "plt.ylabel('Median House Prices (€k)')\n",
        "plt.show()"
      ],
      "execution_count": 109,
      "outputs": [
        {
          "output_type": "display_data",
          "data": {
            "image/png": "[encoded data removed]",
            "text/plain": [
              "<Figure size 1584x1080 with 1 Axes>"
            ]
          },
          "metadata": {
            "tags": [],
            "needs_background": "light"
          }
        }
      ]
    }
  ]
}